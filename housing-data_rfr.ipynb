{
 "cells": [
  {
   "cell_type": "code",
   "execution_count": 1,
   "id": "0a3d7ef0",
   "metadata": {
    "_cell_guid": "b1076dfc-b9ad-4769-8c92-a6c4dae69d19",
    "_uuid": "8f2839f25d086af736a60e9eeb907d3b93b6e0e5",
    "execution": {
     "iopub.execute_input": "2023-12-01T18:12:16.336548Z",
     "iopub.status.busy": "2023-12-01T18:12:16.335968Z",
     "iopub.status.idle": "2023-12-01T18:12:18.742738Z",
     "shell.execute_reply": "2023-12-01T18:12:18.741171Z"
    },
    "papermill": {
     "duration": 2.443132,
     "end_time": "2023-12-01T18:12:18.745792",
     "exception": false,
     "start_time": "2023-12-01T18:12:16.302660",
     "status": "completed"
    },
    "tags": []
   },
   "outputs": [],
   "source": [
    "# This Python 3 environment comes with many helpful analytics libraries installed\n",
    "# It is defined by the kaggle/python Docker image: https://github.com/kaggle/docker-python\n",
    "# For example, here's several helpful packages to load\n",
    "\n",
    "import numpy as np # linear algebra\n",
    "import pandas as pd # data processing, CSV file I/O (e.g. pd.read_csv)\n",
    "import seaborn as sns\n",
    "import matplotlib.pyplot as plt\n",
    "import time\n",
    "import warnings\n",
    "warnings.filterwarnings(\"ignore\") # Caution with this as any warning is suppresed\n",
    "\n",
    "# Input data files are available in the read-only \"../input/\" directory\n",
    "# For example, running this (by clicking run or pressing Shift+Enter) will list all files under the input directory\n",
    "\n",
    "# import os\n",
    "# for dirname, _, filenames in os.walk('/kaggle/input'):\n",
    "#     for filename in filenames:\n",
    "#         print(os.path.join(dirname, filename))\n",
    "\n",
    "# You can write up to 20GB to the current directory (/kaggle/working/) that gets preserved as output when you create a version using \"Save & Run All\" \n",
    "# You can also write temporary files to /kaggle/temp/, but they won't be saved outside of the current session"
   ]
  },
  {
   "cell_type": "markdown",
   "id": "da45b1c7",
   "metadata": {
    "papermill": {
     "duration": 0.028388,
     "end_time": "2023-12-01T18:12:18.803430",
     "exception": false,
     "start_time": "2023-12-01T18:12:18.775042",
     "status": "completed"
    },
    "tags": []
   },
   "source": [
    "# Import the training and testing data sets as pandas dataframes"
   ]
  },
  {
   "cell_type": "code",
   "execution_count": 2,
   "id": "0a9f8e4c",
   "metadata": {
    "execution": {
     "iopub.execute_input": "2023-12-01T18:12:18.875494Z",
     "iopub.status.busy": "2023-12-01T18:12:18.874220Z",
     "iopub.status.idle": "2023-12-01T18:12:18.981008Z",
     "shell.execute_reply": "2023-12-01T18:12:18.979766Z"
    },
    "papermill": {
     "duration": 0.145629,
     "end_time": "2023-12-01T18:12:18.984025",
     "exception": false,
     "start_time": "2023-12-01T18:12:18.838396",
     "status": "completed"
    },
    "tags": []
   },
   "outputs": [],
   "source": [
    "df_train = pd.read_csv('/kaggle/input/house-prices-advanced-regression-techniques/train.csv')\n",
    "df_test = pd.read_csv('/kaggle/input/house-prices-advanced-regression-techniques/test.csv')"
   ]
  },
  {
   "cell_type": "markdown",
   "id": "15918a0d",
   "metadata": {
    "papermill": {
     "duration": 0.028767,
     "end_time": "2023-12-01T18:12:19.041637",
     "exception": false,
     "start_time": "2023-12-01T18:12:19.012870",
     "status": "completed"
    },
    "tags": []
   },
   "source": [
    "**Check out the top of the data set.**"
   ]
  },
  {
   "cell_type": "code",
   "execution_count": 3,
   "id": "7b16e954",
   "metadata": {
    "execution": {
     "iopub.execute_input": "2023-12-01T18:12:19.102436Z",
     "iopub.status.busy": "2023-12-01T18:12:19.101919Z",
     "iopub.status.idle": "2023-12-01T18:12:19.111247Z",
     "shell.execute_reply": "2023-12-01T18:12:19.109855Z"
    },
    "papermill": {
     "duration": 0.042779,
     "end_time": "2023-12-01T18:12:19.113649",
     "exception": false,
     "start_time": "2023-12-01T18:12:19.070870",
     "status": "completed"
    },
    "tags": []
   },
   "outputs": [
    {
     "data": {
      "text/plain": [
       "1460"
      ]
     },
     "execution_count": 3,
     "metadata": {},
     "output_type": "execute_result"
    }
   ],
   "source": [
    "train_len = len(df_train)\n",
    "train_len"
   ]
  },
  {
   "cell_type": "markdown",
   "id": "901efb5b",
   "metadata": {
    "papermill": {
     "duration": 0.103834,
     "end_time": "2023-12-01T18:12:19.247003",
     "exception": false,
     "start_time": "2023-12-01T18:12:19.143169",
     "status": "completed"
    },
    "tags": []
   },
   "source": [
    "## In order to clean both data sets at the same time, combine the train and test.\n",
    "    \n",
    "**This is necessary for making the dummy variables later in case there are some differences in the catagories in the train vs test.**"
   ]
  },
  {
   "cell_type": "code",
   "execution_count": 4,
   "id": "e85d6a82",
   "metadata": {
    "execution": {
     "iopub.execute_input": "2023-12-01T18:12:19.309387Z",
     "iopub.status.busy": "2023-12-01T18:12:19.308995Z",
     "iopub.status.idle": "2023-12-01T18:12:19.338052Z",
     "shell.execute_reply": "2023-12-01T18:12:19.336694Z"
    },
    "papermill": {
     "duration": 0.06317,
     "end_time": "2023-12-01T18:12:19.341269",
     "exception": false,
     "start_time": "2023-12-01T18:12:19.278099",
     "status": "completed"
    },
    "tags": []
   },
   "outputs": [],
   "source": [
    "df = pd.concat([df_train, df_test],ignore_index=True)"
   ]
  },
  {
   "cell_type": "code",
   "execution_count": 5,
   "id": "50a3c401",
   "metadata": {
    "execution": {
     "iopub.execute_input": "2023-12-01T18:12:19.404080Z",
     "iopub.status.busy": "2023-12-01T18:12:19.403610Z",
     "iopub.status.idle": "2023-12-01T18:12:19.438650Z",
     "shell.execute_reply": "2023-12-01T18:12:19.437235Z"
    },
    "papermill": {
     "duration": 0.070605,
     "end_time": "2023-12-01T18:12:19.441825",
     "exception": false,
     "start_time": "2023-12-01T18:12:19.371220",
     "status": "completed"
    },
    "tags": []
   },
   "outputs": [
    {
     "data": {
      "text/html": [
       "<div>\n",
       "<style scoped>\n",
       "    .dataframe tbody tr th:only-of-type {\n",
       "        vertical-align: middle;\n",
       "    }\n",
       "\n",
       "    .dataframe tbody tr th {\n",
       "        vertical-align: top;\n",
       "    }\n",
       "\n",
       "    .dataframe thead th {\n",
       "        text-align: right;\n",
       "    }\n",
       "</style>\n",
       "<table border=\"1\" class=\"dataframe\">\n",
       "  <thead>\n",
       "    <tr style=\"text-align: right;\">\n",
       "      <th></th>\n",
       "      <th>Id</th>\n",
       "      <th>MSSubClass</th>\n",
       "      <th>MSZoning</th>\n",
       "      <th>LotFrontage</th>\n",
       "      <th>LotArea</th>\n",
       "      <th>Street</th>\n",
       "      <th>Alley</th>\n",
       "      <th>LotShape</th>\n",
       "      <th>LandContour</th>\n",
       "      <th>Utilities</th>\n",
       "      <th>...</th>\n",
       "      <th>PoolArea</th>\n",
       "      <th>PoolQC</th>\n",
       "      <th>Fence</th>\n",
       "      <th>MiscFeature</th>\n",
       "      <th>MiscVal</th>\n",
       "      <th>MoSold</th>\n",
       "      <th>YrSold</th>\n",
       "      <th>SaleType</th>\n",
       "      <th>SaleCondition</th>\n",
       "      <th>SalePrice</th>\n",
       "    </tr>\n",
       "  </thead>\n",
       "  <tbody>\n",
       "    <tr>\n",
       "      <th>1457</th>\n",
       "      <td>1458</td>\n",
       "      <td>70</td>\n",
       "      <td>RL</td>\n",
       "      <td>66.0</td>\n",
       "      <td>9042</td>\n",
       "      <td>Pave</td>\n",
       "      <td>NaN</td>\n",
       "      <td>Reg</td>\n",
       "      <td>Lvl</td>\n",
       "      <td>AllPub</td>\n",
       "      <td>...</td>\n",
       "      <td>0</td>\n",
       "      <td>NaN</td>\n",
       "      <td>GdPrv</td>\n",
       "      <td>Shed</td>\n",
       "      <td>2500</td>\n",
       "      <td>5</td>\n",
       "      <td>2010</td>\n",
       "      <td>WD</td>\n",
       "      <td>Normal</td>\n",
       "      <td>266500.0</td>\n",
       "    </tr>\n",
       "    <tr>\n",
       "      <th>1458</th>\n",
       "      <td>1459</td>\n",
       "      <td>20</td>\n",
       "      <td>RL</td>\n",
       "      <td>68.0</td>\n",
       "      <td>9717</td>\n",
       "      <td>Pave</td>\n",
       "      <td>NaN</td>\n",
       "      <td>Reg</td>\n",
       "      <td>Lvl</td>\n",
       "      <td>AllPub</td>\n",
       "      <td>...</td>\n",
       "      <td>0</td>\n",
       "      <td>NaN</td>\n",
       "      <td>NaN</td>\n",
       "      <td>NaN</td>\n",
       "      <td>0</td>\n",
       "      <td>4</td>\n",
       "      <td>2010</td>\n",
       "      <td>WD</td>\n",
       "      <td>Normal</td>\n",
       "      <td>142125.0</td>\n",
       "    </tr>\n",
       "    <tr>\n",
       "      <th>1459</th>\n",
       "      <td>1460</td>\n",
       "      <td>20</td>\n",
       "      <td>RL</td>\n",
       "      <td>75.0</td>\n",
       "      <td>9937</td>\n",
       "      <td>Pave</td>\n",
       "      <td>NaN</td>\n",
       "      <td>Reg</td>\n",
       "      <td>Lvl</td>\n",
       "      <td>AllPub</td>\n",
       "      <td>...</td>\n",
       "      <td>0</td>\n",
       "      <td>NaN</td>\n",
       "      <td>NaN</td>\n",
       "      <td>NaN</td>\n",
       "      <td>0</td>\n",
       "      <td>6</td>\n",
       "      <td>2008</td>\n",
       "      <td>WD</td>\n",
       "      <td>Normal</td>\n",
       "      <td>147500.0</td>\n",
       "    </tr>\n",
       "    <tr>\n",
       "      <th>1460</th>\n",
       "      <td>1461</td>\n",
       "      <td>20</td>\n",
       "      <td>RH</td>\n",
       "      <td>80.0</td>\n",
       "      <td>11622</td>\n",
       "      <td>Pave</td>\n",
       "      <td>NaN</td>\n",
       "      <td>Reg</td>\n",
       "      <td>Lvl</td>\n",
       "      <td>AllPub</td>\n",
       "      <td>...</td>\n",
       "      <td>0</td>\n",
       "      <td>NaN</td>\n",
       "      <td>MnPrv</td>\n",
       "      <td>NaN</td>\n",
       "      <td>0</td>\n",
       "      <td>6</td>\n",
       "      <td>2010</td>\n",
       "      <td>WD</td>\n",
       "      <td>Normal</td>\n",
       "      <td>NaN</td>\n",
       "    </tr>\n",
       "    <tr>\n",
       "      <th>1461</th>\n",
       "      <td>1462</td>\n",
       "      <td>20</td>\n",
       "      <td>RL</td>\n",
       "      <td>81.0</td>\n",
       "      <td>14267</td>\n",
       "      <td>Pave</td>\n",
       "      <td>NaN</td>\n",
       "      <td>IR1</td>\n",
       "      <td>Lvl</td>\n",
       "      <td>AllPub</td>\n",
       "      <td>...</td>\n",
       "      <td>0</td>\n",
       "      <td>NaN</td>\n",
       "      <td>NaN</td>\n",
       "      <td>Gar2</td>\n",
       "      <td>12500</td>\n",
       "      <td>6</td>\n",
       "      <td>2010</td>\n",
       "      <td>WD</td>\n",
       "      <td>Normal</td>\n",
       "      <td>NaN</td>\n",
       "    </tr>\n",
       "    <tr>\n",
       "      <th>1462</th>\n",
       "      <td>1463</td>\n",
       "      <td>60</td>\n",
       "      <td>RL</td>\n",
       "      <td>74.0</td>\n",
       "      <td>13830</td>\n",
       "      <td>Pave</td>\n",
       "      <td>NaN</td>\n",
       "      <td>IR1</td>\n",
       "      <td>Lvl</td>\n",
       "      <td>AllPub</td>\n",
       "      <td>...</td>\n",
       "      <td>0</td>\n",
       "      <td>NaN</td>\n",
       "      <td>MnPrv</td>\n",
       "      <td>NaN</td>\n",
       "      <td>0</td>\n",
       "      <td>3</td>\n",
       "      <td>2010</td>\n",
       "      <td>WD</td>\n",
       "      <td>Normal</td>\n",
       "      <td>NaN</td>\n",
       "    </tr>\n",
       "    <tr>\n",
       "      <th>1463</th>\n",
       "      <td>1464</td>\n",
       "      <td>60</td>\n",
       "      <td>RL</td>\n",
       "      <td>78.0</td>\n",
       "      <td>9978</td>\n",
       "      <td>Pave</td>\n",
       "      <td>NaN</td>\n",
       "      <td>IR1</td>\n",
       "      <td>Lvl</td>\n",
       "      <td>AllPub</td>\n",
       "      <td>...</td>\n",
       "      <td>0</td>\n",
       "      <td>NaN</td>\n",
       "      <td>NaN</td>\n",
       "      <td>NaN</td>\n",
       "      <td>0</td>\n",
       "      <td>6</td>\n",
       "      <td>2010</td>\n",
       "      <td>WD</td>\n",
       "      <td>Normal</td>\n",
       "      <td>NaN</td>\n",
       "    </tr>\n",
       "  </tbody>\n",
       "</table>\n",
       "<p>7 rows × 81 columns</p>\n",
       "</div>"
      ],
      "text/plain": [
       "        Id  MSSubClass MSZoning  LotFrontage  LotArea Street Alley LotShape  \\\n",
       "1457  1458          70       RL         66.0     9042   Pave   NaN      Reg   \n",
       "1458  1459          20       RL         68.0     9717   Pave   NaN      Reg   \n",
       "1459  1460          20       RL         75.0     9937   Pave   NaN      Reg   \n",
       "1460  1461          20       RH         80.0    11622   Pave   NaN      Reg   \n",
       "1461  1462          20       RL         81.0    14267   Pave   NaN      IR1   \n",
       "1462  1463          60       RL         74.0    13830   Pave   NaN      IR1   \n",
       "1463  1464          60       RL         78.0     9978   Pave   NaN      IR1   \n",
       "\n",
       "     LandContour Utilities  ... PoolArea PoolQC  Fence MiscFeature MiscVal  \\\n",
       "1457         Lvl    AllPub  ...        0    NaN  GdPrv        Shed    2500   \n",
       "1458         Lvl    AllPub  ...        0    NaN    NaN         NaN       0   \n",
       "1459         Lvl    AllPub  ...        0    NaN    NaN         NaN       0   \n",
       "1460         Lvl    AllPub  ...        0    NaN  MnPrv         NaN       0   \n",
       "1461         Lvl    AllPub  ...        0    NaN    NaN        Gar2   12500   \n",
       "1462         Lvl    AllPub  ...        0    NaN  MnPrv         NaN       0   \n",
       "1463         Lvl    AllPub  ...        0    NaN    NaN         NaN       0   \n",
       "\n",
       "     MoSold YrSold  SaleType  SaleCondition  SalePrice  \n",
       "1457      5   2010        WD         Normal   266500.0  \n",
       "1458      4   2010        WD         Normal   142125.0  \n",
       "1459      6   2008        WD         Normal   147500.0  \n",
       "1460      6   2010        WD         Normal        NaN  \n",
       "1461      6   2010        WD         Normal        NaN  \n",
       "1462      3   2010        WD         Normal        NaN  \n",
       "1463      6   2010        WD         Normal        NaN  \n",
       "\n",
       "[7 rows x 81 columns]"
      ]
     },
     "execution_count": 5,
     "metadata": {},
     "output_type": "execute_result"
    }
   ],
   "source": [
    "df[train_len-3:train_len+4]"
   ]
  },
  {
   "cell_type": "code",
   "execution_count": 6,
   "id": "627a8abd",
   "metadata": {
    "execution": {
     "iopub.execute_input": "2023-12-01T18:12:19.507144Z",
     "iopub.status.busy": "2023-12-01T18:12:19.506702Z",
     "iopub.status.idle": "2023-12-01T18:12:19.536559Z",
     "shell.execute_reply": "2023-12-01T18:12:19.535432Z"
    },
    "papermill": {
     "duration": 0.066048,
     "end_time": "2023-12-01T18:12:19.539516",
     "exception": false,
     "start_time": "2023-12-01T18:12:19.473468",
     "status": "completed"
    },
    "tags": []
   },
   "outputs": [
    {
     "data": {
      "text/html": [
       "<div>\n",
       "<style scoped>\n",
       "    .dataframe tbody tr th:only-of-type {\n",
       "        vertical-align: middle;\n",
       "    }\n",
       "\n",
       "    .dataframe tbody tr th {\n",
       "        vertical-align: top;\n",
       "    }\n",
       "\n",
       "    .dataframe thead th {\n",
       "        text-align: right;\n",
       "    }\n",
       "</style>\n",
       "<table border=\"1\" class=\"dataframe\">\n",
       "  <thead>\n",
       "    <tr style=\"text-align: right;\">\n",
       "      <th></th>\n",
       "      <th>Id</th>\n",
       "      <th>MSSubClass</th>\n",
       "      <th>MSZoning</th>\n",
       "      <th>LotFrontage</th>\n",
       "      <th>LotArea</th>\n",
       "      <th>Street</th>\n",
       "      <th>Alley</th>\n",
       "      <th>LotShape</th>\n",
       "      <th>LandContour</th>\n",
       "      <th>Utilities</th>\n",
       "      <th>...</th>\n",
       "      <th>PoolArea</th>\n",
       "      <th>PoolQC</th>\n",
       "      <th>Fence</th>\n",
       "      <th>MiscFeature</th>\n",
       "      <th>MiscVal</th>\n",
       "      <th>MoSold</th>\n",
       "      <th>YrSold</th>\n",
       "      <th>SaleType</th>\n",
       "      <th>SaleCondition</th>\n",
       "      <th>SalePrice</th>\n",
       "    </tr>\n",
       "  </thead>\n",
       "  <tbody>\n",
       "    <tr>\n",
       "      <th>0</th>\n",
       "      <td>1</td>\n",
       "      <td>60</td>\n",
       "      <td>RL</td>\n",
       "      <td>65.0</td>\n",
       "      <td>8450</td>\n",
       "      <td>Pave</td>\n",
       "      <td>NaN</td>\n",
       "      <td>Reg</td>\n",
       "      <td>Lvl</td>\n",
       "      <td>AllPub</td>\n",
       "      <td>...</td>\n",
       "      <td>0</td>\n",
       "      <td>NaN</td>\n",
       "      <td>NaN</td>\n",
       "      <td>NaN</td>\n",
       "      <td>0</td>\n",
       "      <td>2</td>\n",
       "      <td>2008</td>\n",
       "      <td>WD</td>\n",
       "      <td>Normal</td>\n",
       "      <td>208500.0</td>\n",
       "    </tr>\n",
       "    <tr>\n",
       "      <th>1</th>\n",
       "      <td>2</td>\n",
       "      <td>20</td>\n",
       "      <td>RL</td>\n",
       "      <td>80.0</td>\n",
       "      <td>9600</td>\n",
       "      <td>Pave</td>\n",
       "      <td>NaN</td>\n",
       "      <td>Reg</td>\n",
       "      <td>Lvl</td>\n",
       "      <td>AllPub</td>\n",
       "      <td>...</td>\n",
       "      <td>0</td>\n",
       "      <td>NaN</td>\n",
       "      <td>NaN</td>\n",
       "      <td>NaN</td>\n",
       "      <td>0</td>\n",
       "      <td>5</td>\n",
       "      <td>2007</td>\n",
       "      <td>WD</td>\n",
       "      <td>Normal</td>\n",
       "      <td>181500.0</td>\n",
       "    </tr>\n",
       "    <tr>\n",
       "      <th>2</th>\n",
       "      <td>3</td>\n",
       "      <td>60</td>\n",
       "      <td>RL</td>\n",
       "      <td>68.0</td>\n",
       "      <td>11250</td>\n",
       "      <td>Pave</td>\n",
       "      <td>NaN</td>\n",
       "      <td>IR1</td>\n",
       "      <td>Lvl</td>\n",
       "      <td>AllPub</td>\n",
       "      <td>...</td>\n",
       "      <td>0</td>\n",
       "      <td>NaN</td>\n",
       "      <td>NaN</td>\n",
       "      <td>NaN</td>\n",
       "      <td>0</td>\n",
       "      <td>9</td>\n",
       "      <td>2008</td>\n",
       "      <td>WD</td>\n",
       "      <td>Normal</td>\n",
       "      <td>223500.0</td>\n",
       "    </tr>\n",
       "    <tr>\n",
       "      <th>3</th>\n",
       "      <td>4</td>\n",
       "      <td>70</td>\n",
       "      <td>RL</td>\n",
       "      <td>60.0</td>\n",
       "      <td>9550</td>\n",
       "      <td>Pave</td>\n",
       "      <td>NaN</td>\n",
       "      <td>IR1</td>\n",
       "      <td>Lvl</td>\n",
       "      <td>AllPub</td>\n",
       "      <td>...</td>\n",
       "      <td>0</td>\n",
       "      <td>NaN</td>\n",
       "      <td>NaN</td>\n",
       "      <td>NaN</td>\n",
       "      <td>0</td>\n",
       "      <td>2</td>\n",
       "      <td>2006</td>\n",
       "      <td>WD</td>\n",
       "      <td>Abnorml</td>\n",
       "      <td>140000.0</td>\n",
       "    </tr>\n",
       "    <tr>\n",
       "      <th>4</th>\n",
       "      <td>5</td>\n",
       "      <td>60</td>\n",
       "      <td>RL</td>\n",
       "      <td>84.0</td>\n",
       "      <td>14260</td>\n",
       "      <td>Pave</td>\n",
       "      <td>NaN</td>\n",
       "      <td>IR1</td>\n",
       "      <td>Lvl</td>\n",
       "      <td>AllPub</td>\n",
       "      <td>...</td>\n",
       "      <td>0</td>\n",
       "      <td>NaN</td>\n",
       "      <td>NaN</td>\n",
       "      <td>NaN</td>\n",
       "      <td>0</td>\n",
       "      <td>12</td>\n",
       "      <td>2008</td>\n",
       "      <td>WD</td>\n",
       "      <td>Normal</td>\n",
       "      <td>250000.0</td>\n",
       "    </tr>\n",
       "  </tbody>\n",
       "</table>\n",
       "<p>5 rows × 81 columns</p>\n",
       "</div>"
      ],
      "text/plain": [
       "   Id  MSSubClass MSZoning  LotFrontage  LotArea Street Alley LotShape  \\\n",
       "0   1          60       RL         65.0     8450   Pave   NaN      Reg   \n",
       "1   2          20       RL         80.0     9600   Pave   NaN      Reg   \n",
       "2   3          60       RL         68.0    11250   Pave   NaN      IR1   \n",
       "3   4          70       RL         60.0     9550   Pave   NaN      IR1   \n",
       "4   5          60       RL         84.0    14260   Pave   NaN      IR1   \n",
       "\n",
       "  LandContour Utilities  ... PoolArea PoolQC Fence MiscFeature MiscVal MoSold  \\\n",
       "0         Lvl    AllPub  ...        0    NaN   NaN         NaN       0      2   \n",
       "1         Lvl    AllPub  ...        0    NaN   NaN         NaN       0      5   \n",
       "2         Lvl    AllPub  ...        0    NaN   NaN         NaN       0      9   \n",
       "3         Lvl    AllPub  ...        0    NaN   NaN         NaN       0      2   \n",
       "4         Lvl    AllPub  ...        0    NaN   NaN         NaN       0     12   \n",
       "\n",
       "  YrSold  SaleType  SaleCondition  SalePrice  \n",
       "0   2008        WD         Normal   208500.0  \n",
       "1   2007        WD         Normal   181500.0  \n",
       "2   2008        WD         Normal   223500.0  \n",
       "3   2006        WD        Abnorml   140000.0  \n",
       "4   2008        WD         Normal   250000.0  \n",
       "\n",
       "[5 rows x 81 columns]"
      ]
     },
     "execution_count": 6,
     "metadata": {},
     "output_type": "execute_result"
    }
   ],
   "source": [
    "df.head()"
   ]
  },
  {
   "cell_type": "markdown",
   "id": "1a4c41b2",
   "metadata": {
    "papermill": {
     "duration": 0.030392,
     "end_time": "2023-12-01T18:12:19.601782",
     "exception": false,
     "start_time": "2023-12-01T18:12:19.571390",
     "status": "completed"
    },
    "tags": []
   },
   "source": [
    "**View the correlation of the numeric columns to \"SalePrice\" as a simple first look.**"
   ]
  },
  {
   "cell_type": "code",
   "execution_count": 7,
   "id": "39cd6482",
   "metadata": {
    "execution": {
     "iopub.execute_input": "2023-12-01T18:12:19.665105Z",
     "iopub.status.busy": "2023-12-01T18:12:19.664589Z",
     "iopub.status.idle": "2023-12-01T18:12:19.700830Z",
     "shell.execute_reply": "2023-12-01T18:12:19.699652Z"
    },
    "papermill": {
     "duration": 0.071276,
     "end_time": "2023-12-01T18:12:19.703663",
     "exception": false,
     "start_time": "2023-12-01T18:12:19.632387",
     "status": "completed"
    },
    "tags": []
   },
   "outputs": [
    {
     "data": {
      "text/html": [
       "<div>\n",
       "<style scoped>\n",
       "    .dataframe tbody tr th:only-of-type {\n",
       "        vertical-align: middle;\n",
       "    }\n",
       "\n",
       "    .dataframe tbody tr th {\n",
       "        vertical-align: top;\n",
       "    }\n",
       "\n",
       "    .dataframe thead th {\n",
       "        text-align: right;\n",
       "    }\n",
       "</style>\n",
       "<table border=\"1\" class=\"dataframe\">\n",
       "  <thead>\n",
       "    <tr style=\"text-align: right;\">\n",
       "      <th></th>\n",
       "      <th>Id</th>\n",
       "      <th>MSSubClass</th>\n",
       "      <th>MSZoning</th>\n",
       "      <th>LotFrontage</th>\n",
       "      <th>LotArea</th>\n",
       "      <th>Street</th>\n",
       "      <th>Alley</th>\n",
       "      <th>LotShape</th>\n",
       "      <th>LandContour</th>\n",
       "      <th>Utilities</th>\n",
       "      <th>...</th>\n",
       "      <th>PoolArea</th>\n",
       "      <th>PoolQC</th>\n",
       "      <th>Fence</th>\n",
       "      <th>MiscFeature</th>\n",
       "      <th>MiscVal</th>\n",
       "      <th>MoSold</th>\n",
       "      <th>YrSold</th>\n",
       "      <th>SaleType</th>\n",
       "      <th>SaleCondition</th>\n",
       "      <th>SalePrice</th>\n",
       "    </tr>\n",
       "  </thead>\n",
       "  <tbody>\n",
       "    <tr>\n",
       "      <th>1460</th>\n",
       "      <td>1461</td>\n",
       "      <td>20</td>\n",
       "      <td>RH</td>\n",
       "      <td>80.0</td>\n",
       "      <td>11622</td>\n",
       "      <td>Pave</td>\n",
       "      <td>NaN</td>\n",
       "      <td>Reg</td>\n",
       "      <td>Lvl</td>\n",
       "      <td>AllPub</td>\n",
       "      <td>...</td>\n",
       "      <td>0</td>\n",
       "      <td>NaN</td>\n",
       "      <td>MnPrv</td>\n",
       "      <td>NaN</td>\n",
       "      <td>0</td>\n",
       "      <td>6</td>\n",
       "      <td>2010</td>\n",
       "      <td>WD</td>\n",
       "      <td>Normal</td>\n",
       "      <td>NaN</td>\n",
       "    </tr>\n",
       "    <tr>\n",
       "      <th>1461</th>\n",
       "      <td>1462</td>\n",
       "      <td>20</td>\n",
       "      <td>RL</td>\n",
       "      <td>81.0</td>\n",
       "      <td>14267</td>\n",
       "      <td>Pave</td>\n",
       "      <td>NaN</td>\n",
       "      <td>IR1</td>\n",
       "      <td>Lvl</td>\n",
       "      <td>AllPub</td>\n",
       "      <td>...</td>\n",
       "      <td>0</td>\n",
       "      <td>NaN</td>\n",
       "      <td>NaN</td>\n",
       "      <td>Gar2</td>\n",
       "      <td>12500</td>\n",
       "      <td>6</td>\n",
       "      <td>2010</td>\n",
       "      <td>WD</td>\n",
       "      <td>Normal</td>\n",
       "      <td>NaN</td>\n",
       "    </tr>\n",
       "    <tr>\n",
       "      <th>1462</th>\n",
       "      <td>1463</td>\n",
       "      <td>60</td>\n",
       "      <td>RL</td>\n",
       "      <td>74.0</td>\n",
       "      <td>13830</td>\n",
       "      <td>Pave</td>\n",
       "      <td>NaN</td>\n",
       "      <td>IR1</td>\n",
       "      <td>Lvl</td>\n",
       "      <td>AllPub</td>\n",
       "      <td>...</td>\n",
       "      <td>0</td>\n",
       "      <td>NaN</td>\n",
       "      <td>MnPrv</td>\n",
       "      <td>NaN</td>\n",
       "      <td>0</td>\n",
       "      <td>3</td>\n",
       "      <td>2010</td>\n",
       "      <td>WD</td>\n",
       "      <td>Normal</td>\n",
       "      <td>NaN</td>\n",
       "    </tr>\n",
       "    <tr>\n",
       "      <th>1463</th>\n",
       "      <td>1464</td>\n",
       "      <td>60</td>\n",
       "      <td>RL</td>\n",
       "      <td>78.0</td>\n",
       "      <td>9978</td>\n",
       "      <td>Pave</td>\n",
       "      <td>NaN</td>\n",
       "      <td>IR1</td>\n",
       "      <td>Lvl</td>\n",
       "      <td>AllPub</td>\n",
       "      <td>...</td>\n",
       "      <td>0</td>\n",
       "      <td>NaN</td>\n",
       "      <td>NaN</td>\n",
       "      <td>NaN</td>\n",
       "      <td>0</td>\n",
       "      <td>6</td>\n",
       "      <td>2010</td>\n",
       "      <td>WD</td>\n",
       "      <td>Normal</td>\n",
       "      <td>NaN</td>\n",
       "    </tr>\n",
       "    <tr>\n",
       "      <th>1464</th>\n",
       "      <td>1465</td>\n",
       "      <td>120</td>\n",
       "      <td>RL</td>\n",
       "      <td>43.0</td>\n",
       "      <td>5005</td>\n",
       "      <td>Pave</td>\n",
       "      <td>NaN</td>\n",
       "      <td>IR1</td>\n",
       "      <td>HLS</td>\n",
       "      <td>AllPub</td>\n",
       "      <td>...</td>\n",
       "      <td>0</td>\n",
       "      <td>NaN</td>\n",
       "      <td>NaN</td>\n",
       "      <td>NaN</td>\n",
       "      <td>0</td>\n",
       "      <td>1</td>\n",
       "      <td>2010</td>\n",
       "      <td>WD</td>\n",
       "      <td>Normal</td>\n",
       "      <td>NaN</td>\n",
       "    </tr>\n",
       "    <tr>\n",
       "      <th>...</th>\n",
       "      <td>...</td>\n",
       "      <td>...</td>\n",
       "      <td>...</td>\n",
       "      <td>...</td>\n",
       "      <td>...</td>\n",
       "      <td>...</td>\n",
       "      <td>...</td>\n",
       "      <td>...</td>\n",
       "      <td>...</td>\n",
       "      <td>...</td>\n",
       "      <td>...</td>\n",
       "      <td>...</td>\n",
       "      <td>...</td>\n",
       "      <td>...</td>\n",
       "      <td>...</td>\n",
       "      <td>...</td>\n",
       "      <td>...</td>\n",
       "      <td>...</td>\n",
       "      <td>...</td>\n",
       "      <td>...</td>\n",
       "      <td>...</td>\n",
       "    </tr>\n",
       "    <tr>\n",
       "      <th>2914</th>\n",
       "      <td>2915</td>\n",
       "      <td>160</td>\n",
       "      <td>RM</td>\n",
       "      <td>21.0</td>\n",
       "      <td>1936</td>\n",
       "      <td>Pave</td>\n",
       "      <td>NaN</td>\n",
       "      <td>Reg</td>\n",
       "      <td>Lvl</td>\n",
       "      <td>AllPub</td>\n",
       "      <td>...</td>\n",
       "      <td>0</td>\n",
       "      <td>NaN</td>\n",
       "      <td>NaN</td>\n",
       "      <td>NaN</td>\n",
       "      <td>0</td>\n",
       "      <td>6</td>\n",
       "      <td>2006</td>\n",
       "      <td>WD</td>\n",
       "      <td>Normal</td>\n",
       "      <td>NaN</td>\n",
       "    </tr>\n",
       "    <tr>\n",
       "      <th>2915</th>\n",
       "      <td>2916</td>\n",
       "      <td>160</td>\n",
       "      <td>RM</td>\n",
       "      <td>21.0</td>\n",
       "      <td>1894</td>\n",
       "      <td>Pave</td>\n",
       "      <td>NaN</td>\n",
       "      <td>Reg</td>\n",
       "      <td>Lvl</td>\n",
       "      <td>AllPub</td>\n",
       "      <td>...</td>\n",
       "      <td>0</td>\n",
       "      <td>NaN</td>\n",
       "      <td>NaN</td>\n",
       "      <td>NaN</td>\n",
       "      <td>0</td>\n",
       "      <td>4</td>\n",
       "      <td>2006</td>\n",
       "      <td>WD</td>\n",
       "      <td>Abnorml</td>\n",
       "      <td>NaN</td>\n",
       "    </tr>\n",
       "    <tr>\n",
       "      <th>2916</th>\n",
       "      <td>2917</td>\n",
       "      <td>20</td>\n",
       "      <td>RL</td>\n",
       "      <td>160.0</td>\n",
       "      <td>20000</td>\n",
       "      <td>Pave</td>\n",
       "      <td>NaN</td>\n",
       "      <td>Reg</td>\n",
       "      <td>Lvl</td>\n",
       "      <td>AllPub</td>\n",
       "      <td>...</td>\n",
       "      <td>0</td>\n",
       "      <td>NaN</td>\n",
       "      <td>NaN</td>\n",
       "      <td>NaN</td>\n",
       "      <td>0</td>\n",
       "      <td>9</td>\n",
       "      <td>2006</td>\n",
       "      <td>WD</td>\n",
       "      <td>Abnorml</td>\n",
       "      <td>NaN</td>\n",
       "    </tr>\n",
       "    <tr>\n",
       "      <th>2917</th>\n",
       "      <td>2918</td>\n",
       "      <td>85</td>\n",
       "      <td>RL</td>\n",
       "      <td>62.0</td>\n",
       "      <td>10441</td>\n",
       "      <td>Pave</td>\n",
       "      <td>NaN</td>\n",
       "      <td>Reg</td>\n",
       "      <td>Lvl</td>\n",
       "      <td>AllPub</td>\n",
       "      <td>...</td>\n",
       "      <td>0</td>\n",
       "      <td>NaN</td>\n",
       "      <td>MnPrv</td>\n",
       "      <td>Shed</td>\n",
       "      <td>700</td>\n",
       "      <td>7</td>\n",
       "      <td>2006</td>\n",
       "      <td>WD</td>\n",
       "      <td>Normal</td>\n",
       "      <td>NaN</td>\n",
       "    </tr>\n",
       "    <tr>\n",
       "      <th>2918</th>\n",
       "      <td>2919</td>\n",
       "      <td>60</td>\n",
       "      <td>RL</td>\n",
       "      <td>74.0</td>\n",
       "      <td>9627</td>\n",
       "      <td>Pave</td>\n",
       "      <td>NaN</td>\n",
       "      <td>Reg</td>\n",
       "      <td>Lvl</td>\n",
       "      <td>AllPub</td>\n",
       "      <td>...</td>\n",
       "      <td>0</td>\n",
       "      <td>NaN</td>\n",
       "      <td>NaN</td>\n",
       "      <td>NaN</td>\n",
       "      <td>0</td>\n",
       "      <td>11</td>\n",
       "      <td>2006</td>\n",
       "      <td>WD</td>\n",
       "      <td>Normal</td>\n",
       "      <td>NaN</td>\n",
       "    </tr>\n",
       "  </tbody>\n",
       "</table>\n",
       "<p>1459 rows × 81 columns</p>\n",
       "</div>"
      ],
      "text/plain": [
       "        Id  MSSubClass MSZoning  LotFrontage  LotArea Street Alley LotShape  \\\n",
       "1460  1461          20       RH         80.0    11622   Pave   NaN      Reg   \n",
       "1461  1462          20       RL         81.0    14267   Pave   NaN      IR1   \n",
       "1462  1463          60       RL         74.0    13830   Pave   NaN      IR1   \n",
       "1463  1464          60       RL         78.0     9978   Pave   NaN      IR1   \n",
       "1464  1465         120       RL         43.0     5005   Pave   NaN      IR1   \n",
       "...    ...         ...      ...          ...      ...    ...   ...      ...   \n",
       "2914  2915         160       RM         21.0     1936   Pave   NaN      Reg   \n",
       "2915  2916         160       RM         21.0     1894   Pave   NaN      Reg   \n",
       "2916  2917          20       RL        160.0    20000   Pave   NaN      Reg   \n",
       "2917  2918          85       RL         62.0    10441   Pave   NaN      Reg   \n",
       "2918  2919          60       RL         74.0     9627   Pave   NaN      Reg   \n",
       "\n",
       "     LandContour Utilities  ... PoolArea PoolQC  Fence MiscFeature MiscVal  \\\n",
       "1460         Lvl    AllPub  ...        0    NaN  MnPrv         NaN       0   \n",
       "1461         Lvl    AllPub  ...        0    NaN    NaN        Gar2   12500   \n",
       "1462         Lvl    AllPub  ...        0    NaN  MnPrv         NaN       0   \n",
       "1463         Lvl    AllPub  ...        0    NaN    NaN         NaN       0   \n",
       "1464         HLS    AllPub  ...        0    NaN    NaN         NaN       0   \n",
       "...          ...       ...  ...      ...    ...    ...         ...     ...   \n",
       "2914         Lvl    AllPub  ...        0    NaN    NaN         NaN       0   \n",
       "2915         Lvl    AllPub  ...        0    NaN    NaN         NaN       0   \n",
       "2916         Lvl    AllPub  ...        0    NaN    NaN         NaN       0   \n",
       "2917         Lvl    AllPub  ...        0    NaN  MnPrv        Shed     700   \n",
       "2918         Lvl    AllPub  ...        0    NaN    NaN         NaN       0   \n",
       "\n",
       "     MoSold YrSold  SaleType  SaleCondition  SalePrice  \n",
       "1460      6   2010        WD         Normal        NaN  \n",
       "1461      6   2010        WD         Normal        NaN  \n",
       "1462      3   2010        WD         Normal        NaN  \n",
       "1463      6   2010        WD         Normal        NaN  \n",
       "1464      1   2010        WD         Normal        NaN  \n",
       "...     ...    ...       ...            ...        ...  \n",
       "2914      6   2006        WD         Normal        NaN  \n",
       "2915      4   2006        WD        Abnorml        NaN  \n",
       "2916      9   2006        WD        Abnorml        NaN  \n",
       "2917      7   2006        WD         Normal        NaN  \n",
       "2918     11   2006        WD         Normal        NaN  \n",
       "\n",
       "[1459 rows x 81 columns]"
      ]
     },
     "execution_count": 7,
     "metadata": {},
     "output_type": "execute_result"
    }
   ],
   "source": [
    "df[train_len:len(df)]"
   ]
  },
  {
   "cell_type": "code",
   "execution_count": 8,
   "id": "e6df7896",
   "metadata": {
    "execution": {
     "iopub.execute_input": "2023-12-01T18:12:19.768812Z",
     "iopub.status.busy": "2023-12-01T18:12:19.768354Z",
     "iopub.status.idle": "2023-12-01T18:12:19.796003Z",
     "shell.execute_reply": "2023-12-01T18:12:19.794896Z"
    },
    "papermill": {
     "duration": 0.063097,
     "end_time": "2023-12-01T18:12:19.798481",
     "exception": false,
     "start_time": "2023-12-01T18:12:19.735384",
     "status": "completed"
    },
    "tags": []
   },
   "outputs": [
    {
     "data": {
      "text/plain": [
       "KitchenAbvGr    -0.135907\n",
       "EnclosedPorch   -0.128578\n",
       "MSSubClass      -0.084284\n",
       "OverallCond     -0.077856\n",
       "YrSold          -0.028923\n",
       "LowQualFinSF    -0.025606\n",
       "Id              -0.021917\n",
       "MiscVal         -0.021190\n",
       "BsmtHalfBath    -0.016844\n",
       "BsmtFinSF2      -0.011378\n",
       "3SsnPorch        0.044584\n",
       "MoSold           0.046432\n",
       "PoolArea         0.092404\n",
       "ScreenPorch      0.111447\n",
       "BedroomAbvGr     0.168213\n",
       "BsmtUnfSF        0.214479\n",
       "BsmtFullBath     0.227122\n",
       "LotArea          0.263843\n",
       "HalfBath         0.284108\n",
       "OpenPorchSF      0.315856\n",
       "2ndFlrSF         0.319334\n",
       "WoodDeckSF       0.324413\n",
       "LotFrontage      0.351799\n",
       "BsmtFinSF1       0.386420\n",
       "Fireplaces       0.466929\n",
       "MasVnrArea       0.477493\n",
       "GarageYrBlt      0.486362\n",
       "YearRemodAdd     0.507101\n",
       "YearBuilt        0.522897\n",
       "TotRmsAbvGrd     0.533723\n",
       "FullBath         0.560664\n",
       "1stFlrSF         0.605852\n",
       "TotalBsmtSF      0.613581\n",
       "GarageArea       0.623431\n",
       "GarageCars       0.640409\n",
       "GrLivArea        0.708624\n",
       "OverallQual      0.790982\n",
       "SalePrice        1.000000\n",
       "Name: SalePrice, dtype: float64"
      ]
     },
     "execution_count": 8,
     "metadata": {},
     "output_type": "execute_result"
    }
   ],
   "source": [
    "df.corr(numeric_only=True)['SalePrice'].sort_values()"
   ]
  },
  {
   "cell_type": "markdown",
   "id": "36c1ee80",
   "metadata": {
    "papermill": {
     "duration": 0.030736,
     "end_time": "2023-12-01T18:12:19.861131",
     "exception": false,
     "start_time": "2023-12-01T18:12:19.830395",
     "status": "completed"
    },
    "tags": []
   },
   "source": [
    "### Scatter Plot the highest correlated fields\n",
    "The train are the only ones with 'SalePrice' (obviously) so they are not plotted"
   ]
  },
  {
   "cell_type": "code",
   "execution_count": 9,
   "id": "bc49d023",
   "metadata": {
    "execution": {
     "iopub.execute_input": "2023-12-01T18:12:19.925446Z",
     "iopub.status.busy": "2023-12-01T18:12:19.924966Z",
     "iopub.status.idle": "2023-12-01T18:12:20.685248Z",
     "shell.execute_reply": "2023-12-01T18:12:20.683938Z"
    },
    "papermill": {
     "duration": 0.796064,
     "end_time": "2023-12-01T18:12:20.688027",
     "exception": false,
     "start_time": "2023-12-01T18:12:19.891963",
     "status": "completed"
    },
    "tags": []
   },
   "outputs": [
    {
     "data": {
      "image/png": "[encoded data removed]",
      "text/plain": [
       "<Figure size 1000x400 with 2 Axes>"
      ]
     },
     "metadata": {},
     "output_type": "display_data"
    }
   ],
   "source": [
    "fig, axes = plt.subplots(nrows=1, ncols=2, figsize=(10, 4))\n",
    "s1 = sns.scatterplot(data=df, x='GrLivArea',y='SalePrice', ax=axes[0])\n",
    "s2 = sns.scatterplot(data=df, x='OverallQual',y='SalePrice', ax=axes[1])\n",
    "fig.tight_layout()"
   ]
  },
  {
   "cell_type": "markdown",
   "id": "08358dc9",
   "metadata": {
    "papermill": {
     "duration": 0.032525,
     "end_time": "2023-12-01T18:12:20.753442",
     "exception": false,
     "start_time": "2023-12-01T18:12:20.720917",
     "status": "completed"
    },
    "tags": []
   },
   "source": [
    "Two main outlier data points"
   ]
  },
  {
   "cell_type": "code",
   "execution_count": 10,
   "id": "39cb6d70",
   "metadata": {
    "execution": {
     "iopub.execute_input": "2023-12-01T18:12:20.821232Z",
     "iopub.status.busy": "2023-12-01T18:12:20.820753Z",
     "iopub.status.idle": "2023-12-01T18:12:20.850999Z",
     "shell.execute_reply": "2023-12-01T18:12:20.849544Z"
    },
    "papermill": {
     "duration": 0.068099,
     "end_time": "2023-12-01T18:12:20.853699",
     "exception": false,
     "start_time": "2023-12-01T18:12:20.785600",
     "status": "completed"
    },
    "tags": []
   },
   "outputs": [
    {
     "data": {
      "text/html": [
       "<div>\n",
       "<style scoped>\n",
       "    .dataframe tbody tr th:only-of-type {\n",
       "        vertical-align: middle;\n",
       "    }\n",
       "\n",
       "    .dataframe tbody tr th {\n",
       "        vertical-align: top;\n",
       "    }\n",
       "\n",
       "    .dataframe thead th {\n",
       "        text-align: right;\n",
       "    }\n",
       "</style>\n",
       "<table border=\"1\" class=\"dataframe\">\n",
       "  <thead>\n",
       "    <tr style=\"text-align: right;\">\n",
       "      <th></th>\n",
       "      <th>Id</th>\n",
       "      <th>MSSubClass</th>\n",
       "      <th>MSZoning</th>\n",
       "      <th>LotFrontage</th>\n",
       "      <th>LotArea</th>\n",
       "      <th>Street</th>\n",
       "      <th>Alley</th>\n",
       "      <th>LotShape</th>\n",
       "      <th>LandContour</th>\n",
       "      <th>Utilities</th>\n",
       "      <th>...</th>\n",
       "      <th>PoolArea</th>\n",
       "      <th>PoolQC</th>\n",
       "      <th>Fence</th>\n",
       "      <th>MiscFeature</th>\n",
       "      <th>MiscVal</th>\n",
       "      <th>MoSold</th>\n",
       "      <th>YrSold</th>\n",
       "      <th>SaleType</th>\n",
       "      <th>SaleCondition</th>\n",
       "      <th>SalePrice</th>\n",
       "    </tr>\n",
       "  </thead>\n",
       "  <tbody>\n",
       "    <tr>\n",
       "      <th>523</th>\n",
       "      <td>524</td>\n",
       "      <td>60</td>\n",
       "      <td>RL</td>\n",
       "      <td>130.0</td>\n",
       "      <td>40094</td>\n",
       "      <td>Pave</td>\n",
       "      <td>NaN</td>\n",
       "      <td>IR1</td>\n",
       "      <td>Bnk</td>\n",
       "      <td>AllPub</td>\n",
       "      <td>...</td>\n",
       "      <td>0</td>\n",
       "      <td>NaN</td>\n",
       "      <td>NaN</td>\n",
       "      <td>NaN</td>\n",
       "      <td>0</td>\n",
       "      <td>10</td>\n",
       "      <td>2007</td>\n",
       "      <td>New</td>\n",
       "      <td>Partial</td>\n",
       "      <td>184750.0</td>\n",
       "    </tr>\n",
       "    <tr>\n",
       "      <th>1298</th>\n",
       "      <td>1299</td>\n",
       "      <td>60</td>\n",
       "      <td>RL</td>\n",
       "      <td>313.0</td>\n",
       "      <td>63887</td>\n",
       "      <td>Pave</td>\n",
       "      <td>NaN</td>\n",
       "      <td>IR3</td>\n",
       "      <td>Bnk</td>\n",
       "      <td>AllPub</td>\n",
       "      <td>...</td>\n",
       "      <td>480</td>\n",
       "      <td>Gd</td>\n",
       "      <td>NaN</td>\n",
       "      <td>NaN</td>\n",
       "      <td>0</td>\n",
       "      <td>1</td>\n",
       "      <td>2008</td>\n",
       "      <td>New</td>\n",
       "      <td>Partial</td>\n",
       "      <td>160000.0</td>\n",
       "    </tr>\n",
       "  </tbody>\n",
       "</table>\n",
       "<p>2 rows × 81 columns</p>\n",
       "</div>"
      ],
      "text/plain": [
       "        Id  MSSubClass MSZoning  LotFrontage  LotArea Street Alley LotShape  \\\n",
       "523    524          60       RL        130.0    40094   Pave   NaN      IR1   \n",
       "1298  1299          60       RL        313.0    63887   Pave   NaN      IR3   \n",
       "\n",
       "     LandContour Utilities  ... PoolArea PoolQC Fence MiscFeature MiscVal  \\\n",
       "523          Bnk    AllPub  ...        0    NaN   NaN         NaN       0   \n",
       "1298         Bnk    AllPub  ...      480     Gd   NaN         NaN       0   \n",
       "\n",
       "     MoSold YrSold  SaleType  SaleCondition  SalePrice  \n",
       "523      10   2007       New        Partial   184750.0  \n",
       "1298      1   2008       New        Partial   160000.0  \n",
       "\n",
       "[2 rows x 81 columns]"
      ]
     },
     "execution_count": 10,
     "metadata": {},
     "output_type": "execute_result"
    }
   ],
   "source": [
    "df[(df['GrLivArea']>4500) & (df['SalePrice']<300000)]"
   ]
  },
  {
   "cell_type": "code",
   "execution_count": 11,
   "id": "9d1ee425",
   "metadata": {
    "execution": {
     "iopub.execute_input": "2023-12-01T18:12:20.924821Z",
     "iopub.status.busy": "2023-12-01T18:12:20.923398Z",
     "iopub.status.idle": "2023-12-01T18:12:20.934475Z",
     "shell.execute_reply": "2023-12-01T18:12:20.933135Z"
    },
    "papermill": {
     "duration": 0.049389,
     "end_time": "2023-12-01T18:12:20.937918",
     "exception": false,
     "start_time": "2023-12-01T18:12:20.888529",
     "status": "completed"
    },
    "tags": []
   },
   "outputs": [],
   "source": [
    "subset = df[df['SaleCondition'] == 'Partial']\n",
    "sebset_test =df_test[df_test['SaleCondition'] == 'Partial'] # Run same process on test"
   ]
  },
  {
   "cell_type": "code",
   "execution_count": 12,
   "id": "e72f6eb2",
   "metadata": {
    "execution": {
     "iopub.execute_input": "2023-12-01T18:12:21.006787Z",
     "iopub.status.busy": "2023-12-01T18:12:21.006333Z",
     "iopub.status.idle": "2023-12-01T18:12:21.317504Z",
     "shell.execute_reply": "2023-12-01T18:12:21.316321Z"
    },
    "papermill": {
     "duration": 0.349175,
     "end_time": "2023-12-01T18:12:21.320904",
     "exception": false,
     "start_time": "2023-12-01T18:12:20.971729",
     "status": "completed"
    },
    "tags": []
   },
   "outputs": [
    {
     "data": {
      "text/plain": [
       "<Axes: xlabel='GrLivArea', ylabel='SalePrice'>"
      ]
     },
     "execution_count": 12,
     "metadata": {},
     "output_type": "execute_result"
    },
    {
     "data": {
      "image/png": "[encoded data removed]",
      "text/plain": [
       "<Figure size 640x480 with 1 Axes>"
      ]
     },
     "metadata": {},
     "output_type": "display_data"
    }
   ],
   "source": [
    "sns.scatterplot(data=df, x='GrLivArea',y='SalePrice')\n",
    "sns.scatterplot(data=subset, x='GrLivArea',y='SalePrice')"
   ]
  },
  {
   "cell_type": "code",
   "execution_count": 13,
   "id": "3c69c6c9",
   "metadata": {
    "execution": {
     "iopub.execute_input": "2023-12-01T18:12:21.393434Z",
     "iopub.status.busy": "2023-12-01T18:12:21.392375Z",
     "iopub.status.idle": "2023-12-01T18:12:21.401636Z",
     "shell.execute_reply": "2023-12-01T18:12:21.400391Z"
    },
    "papermill": {
     "duration": 0.049295,
     "end_time": "2023-12-01T18:12:21.404266",
     "exception": false,
     "start_time": "2023-12-01T18:12:21.354971",
     "status": "completed"
    },
    "tags": []
   },
   "outputs": [],
   "source": [
    "outliers_idx = df[(df['GrLivArea']>4500) & (df['SalePrice']<300000)].index"
   ]
  },
  {
   "cell_type": "markdown",
   "id": "5ae30dc3",
   "metadata": {
    "execution": {
     "iopub.execute_input": "2023-11-22T18:04:47.096622Z",
     "iopub.status.busy": "2023-11-22T18:04:47.096198Z",
     "iopub.status.idle": "2023-11-22T18:04:47.104020Z",
     "shell.execute_reply": "2023-11-22T18:04:47.102270Z",
     "shell.execute_reply.started": "2023-11-22T18:04:47.096592Z"
    },
    "papermill": {
     "duration": 0.034207,
     "end_time": "2023-12-01T18:12:21.472819",
     "exception": false,
     "start_time": "2023-12-01T18:12:21.438612",
     "status": "completed"
    },
    "tags": []
   },
   "source": [
    "Drop those two data points"
   ]
  },
  {
   "cell_type": "code",
   "execution_count": 14,
   "id": "a220e25b",
   "metadata": {
    "execution": {
     "iopub.execute_input": "2023-12-01T18:12:21.544518Z",
     "iopub.status.busy": "2023-12-01T18:12:21.544047Z",
     "iopub.status.idle": "2023-12-01T18:12:21.555173Z",
     "shell.execute_reply": "2023-12-01T18:12:21.553497Z"
    },
    "papermill": {
     "duration": 0.050222,
     "end_time": "2023-12-01T18:12:21.557973",
     "exception": false,
     "start_time": "2023-12-01T18:12:21.507751",
     "status": "completed"
    },
    "tags": []
   },
   "outputs": [],
   "source": [
    "df=df.drop(outliers_idx, axis = 0)\n",
    "train_len -= len(outliers_idx)"
   ]
  },
  {
   "cell_type": "code",
   "execution_count": 15,
   "id": "68e21dd6",
   "metadata": {
    "execution": {
     "iopub.execute_input": "2023-12-01T18:12:21.630615Z",
     "iopub.status.busy": "2023-12-01T18:12:21.630197Z",
     "iopub.status.idle": "2023-12-01T18:12:21.951258Z",
     "shell.execute_reply": "2023-12-01T18:12:21.950099Z"
    },
    "papermill": {
     "duration": 0.360783,
     "end_time": "2023-12-01T18:12:21.954201",
     "exception": false,
     "start_time": "2023-12-01T18:12:21.593418",
     "status": "completed"
    },
    "tags": []
   },
   "outputs": [
    {
     "data": {
      "text/plain": [
       "<Axes: xlabel='GrLivArea', ylabel='SalePrice'>"
      ]
     },
     "execution_count": 15,
     "metadata": {},
     "output_type": "execute_result"
    },
    {
     "data": {
      "image/png": "[encoded data removed]",
      "text/plain": [
       "<Figure size 640x480 with 1 Axes>"
      ]
     },
     "metadata": {},
     "output_type": "display_data"
    }
   ],
   "source": [
    "sns.scatterplot(data=df, x='GrLivArea',y='SalePrice')"
   ]
  },
  {
   "cell_type": "markdown",
   "id": "96a1fa43",
   "metadata": {
    "papermill": {
     "duration": 0.035056,
     "end_time": "2023-12-01T18:12:22.025001",
     "exception": false,
     "start_time": "2023-12-01T18:12:21.989945",
     "status": "completed"
    },
    "tags": []
   },
   "source": [
    "### Check out the heat map correlation of the various fields"
   ]
  },
  {
   "cell_type": "code",
   "execution_count": 16,
   "id": "d7e12356",
   "metadata": {
    "execution": {
     "iopub.execute_input": "2023-12-01T18:12:22.098036Z",
     "iopub.status.busy": "2023-12-01T18:12:22.097574Z",
     "iopub.status.idle": "2023-12-01T18:12:23.165588Z",
     "shell.execute_reply": "2023-12-01T18:12:23.164144Z"
    },
    "papermill": {
     "duration": 1.10894,
     "end_time": "2023-12-01T18:12:23.169570",
     "exception": false,
     "start_time": "2023-12-01T18:12:22.060630",
     "status": "completed"
    },
    "tags": []
   },
   "outputs": [
    {
     "data": {
      "image/png": "[encoded data removed]",
      "text/plain": [
       "<Figure size 1000x800 with 2 Axes>"
      ]
     },
     "metadata": {},
     "output_type": "display_data"
    }
   ],
   "source": [
    "plt.figure(figsize=(10,8),dpi=100)\n",
    "sns.heatmap(df.corr(numeric_only=True));"
   ]
  },
  {
   "cell_type": "markdown",
   "id": "59a28f31",
   "metadata": {
    "papermill": {
     "duration": 0.038146,
     "end_time": "2023-12-01T18:12:23.245436",
     "exception": false,
     "start_time": "2023-12-01T18:12:23.207290",
     "status": "completed"
    },
    "tags": []
   },
   "source": [
    "### Go through the data that is missing (na) and either drop of fill those values."
   ]
  },
  {
   "cell_type": "code",
   "execution_count": 17,
   "id": "9ef35f97",
   "metadata": {
    "execution": {
     "iopub.execute_input": "2023-12-01T18:12:23.322543Z",
     "iopub.status.busy": "2023-12-01T18:12:23.322065Z",
     "iopub.status.idle": "2023-12-01T18:12:23.328597Z",
     "shell.execute_reply": "2023-12-01T18:12:23.327413Z"
    },
    "papermill": {
     "duration": 0.048279,
     "end_time": "2023-12-01T18:12:23.330893",
     "exception": false,
     "start_time": "2023-12-01T18:12:23.282614",
     "status": "completed"
    },
    "tags": []
   },
   "outputs": [],
   "source": [
    "# Function to check for missing data\n",
    "def percent_missing(df):\n",
    "    percent_nan = 100 * df.isnull().sum() / len(df)\n",
    "    return percent_nan[percent_nan > 0].sort_values()"
   ]
  },
  {
   "cell_type": "code",
   "execution_count": 18,
   "id": "9d447c22",
   "metadata": {
    "execution": {
     "iopub.execute_input": "2023-12-01T18:12:23.410067Z",
     "iopub.status.busy": "2023-12-01T18:12:23.409649Z",
     "iopub.status.idle": "2023-12-01T18:12:23.440466Z",
     "shell.execute_reply": "2023-12-01T18:12:23.439383Z"
    },
    "papermill": {
     "duration": 0.075281,
     "end_time": "2023-12-01T18:12:23.443158",
     "exception": false,
     "start_time": "2023-12-01T18:12:23.367877",
     "status": "completed"
    },
    "tags": []
   },
   "outputs": [],
   "source": [
    "percent_nan = percent_missing(df)\n",
    "percent_nan_test = percent_missing(df_test)"
   ]
  },
  {
   "cell_type": "markdown",
   "id": "a28a09ce",
   "metadata": {
    "papermill": {
     "duration": 0.036795,
     "end_time": "2023-12-01T18:12:23.517013",
     "exception": false,
     "start_time": "2023-12-01T18:12:23.480218",
     "status": "completed"
    },
    "tags": []
   },
   "source": [
    "### Plots show the % of missing data per field so that they can be filled or dropped\n",
    "Process depends on the field for if it should be a 0 or a string."
   ]
  },
  {
   "cell_type": "code",
   "execution_count": 19,
   "id": "085c31ba",
   "metadata": {
    "execution": {
     "iopub.execute_input": "2023-12-01T18:12:23.593198Z",
     "iopub.status.busy": "2023-12-01T18:12:23.592395Z",
     "iopub.status.idle": "2023-12-01T18:12:24.230123Z",
     "shell.execute_reply": "2023-12-01T18:12:24.228663Z"
    },
    "papermill": {
     "duration": 0.679126,
     "end_time": "2023-12-01T18:12:24.232867",
     "exception": false,
     "start_time": "2023-12-01T18:12:23.553741",
     "status": "completed"
    },
    "tags": []
   },
   "outputs": [
    {
     "data": {
      "text/plain": [
       "(0.0, 5.0)"
      ]
     },
     "execution_count": 19,
     "metadata": {},
     "output_type": "execute_result"
    },
    {
     "data": {
      "image/png": "[encoded data removed]",
      "text/plain": [
       "<Figure size 1000x400 with 1 Axes>"
      ]
     },
     "metadata": {},
     "output_type": "display_data"
    }
   ],
   "source": [
    "fig, (ax1) = plt.subplots(nrows=1, ncols=1, figsize=(10, 4))\n",
    "s1 = sns.barplot(x=percent_nan.index, y = percent_nan, ax=ax1)\n",
    "s1.set_xticklabels(percent_nan.index,rotation=90)\n",
    "s1.set_ylim(0,5)\n"
   ]
  },
  {
   "cell_type": "code",
   "execution_count": 20,
   "id": "4bd80073",
   "metadata": {
    "execution": {
     "iopub.execute_input": "2023-12-01T18:12:24.313505Z",
     "iopub.status.busy": "2023-12-01T18:12:24.312652Z",
     "iopub.status.idle": "2023-12-01T18:12:24.323774Z",
     "shell.execute_reply": "2023-12-01T18:12:24.322584Z"
    },
    "papermill": {
     "duration": 0.053921,
     "end_time": "2023-12-01T18:12:24.326328",
     "exception": false,
     "start_time": "2023-12-01T18:12:24.272407",
     "status": "completed"
    },
    "tags": []
   },
   "outputs": [
    {
     "data": {
      "text/plain": [
       "Index([1379], dtype='int64')"
      ]
     },
     "execution_count": 20,
     "metadata": {},
     "output_type": "execute_result"
    }
   ],
   "source": [
    "electrical_idx = df[df['Electrical'].isnull()==True].index\n",
    "electrical_idx"
   ]
  },
  {
   "cell_type": "code",
   "execution_count": 21,
   "id": "9a2f7421",
   "metadata": {
    "execution": {
     "iopub.execute_input": "2023-12-01T18:12:24.410279Z",
     "iopub.status.busy": "2023-12-01T18:12:24.409113Z",
     "iopub.status.idle": "2023-12-01T18:12:24.419749Z",
     "shell.execute_reply": "2023-12-01T18:12:24.418918Z"
    },
    "papermill": {
     "duration": 0.056899,
     "end_time": "2023-12-01T18:12:24.422313",
     "exception": false,
     "start_time": "2023-12-01T18:12:24.365414",
     "status": "completed"
    },
    "tags": []
   },
   "outputs": [],
   "source": [
    "df=df.drop(electrical_idx, axis = 0)\n",
    "train_len -= len(electrical_idx)"
   ]
  },
  {
   "cell_type": "markdown",
   "id": "c68dd86b",
   "metadata": {
    "papermill": {
     "duration": 0.038826,
     "end_time": "2023-12-01T18:12:24.499879",
     "exception": false,
     "start_time": "2023-12-01T18:12:24.461053",
     "status": "completed"
    },
    "tags": []
   },
   "source": [
    "**Electrical is fixed by dropping one row &#x2713;**"
   ]
  },
  {
   "cell_type": "code",
   "execution_count": 22,
   "id": "8de2b321",
   "metadata": {
    "execution": {
     "iopub.execute_input": "2023-12-01T18:12:24.581049Z",
     "iopub.status.busy": "2023-12-01T18:12:24.579486Z",
     "iopub.status.idle": "2023-12-01T18:12:25.214826Z",
     "shell.execute_reply": "2023-12-01T18:12:25.213640Z"
    },
    "papermill": {
     "duration": 0.678222,
     "end_time": "2023-12-01T18:12:25.217400",
     "exception": false,
     "start_time": "2023-12-01T18:12:24.539178",
     "status": "completed"
    },
    "tags": []
   },
   "outputs": [
    {
     "data": {
      "image/png": "[encoded data removed]",
      "text/plain": [
       "<Figure size 1000x400 with 1 Axes>"
      ]
     },
     "metadata": {},
     "output_type": "display_data"
    }
   ],
   "source": [
    "fig, (ax1) = plt.subplots(nrows=1, ncols=1, figsize=(10, 4))\n",
    "percent_nan = percent_missing(df)\n",
    "sns.barplot(x=percent_nan.index, y = percent_nan, ax=ax1)\n",
    "plt.xticks(rotation=90)\n",
    "plt.ylim(0,10);"
   ]
  },
  {
   "cell_type": "code",
   "execution_count": 23,
   "id": "111b9c01",
   "metadata": {
    "execution": {
     "iopub.execute_input": "2023-12-01T18:12:25.299547Z",
     "iopub.status.busy": "2023-12-01T18:12:25.299056Z",
     "iopub.status.idle": "2023-12-01T18:12:25.317906Z",
     "shell.execute_reply": "2023-12-01T18:12:25.316744Z"
    },
    "papermill": {
     "duration": 0.063812,
     "end_time": "2023-12-01T18:12:25.320755",
     "exception": false,
     "start_time": "2023-12-01T18:12:25.256943",
     "status": "completed"
    },
    "tags": []
   },
   "outputs": [],
   "source": [
    "# Fill the MasVnrArea with 0 since na probably means it just doen not exist\n",
    "df['MasVnrArea']= df['MasVnrArea'].fillna(0)\n",
    "\n",
    "# Catagorical basement features\n",
    "bsmt_str_cols =  ['BsmtQual', 'BsmtCond', 'BsmtExposure', 'BsmtFinType1', 'BsmtFinType2']\n",
    "df[bsmt_str_cols] = df[bsmt_str_cols].fillna('None')\n",
    "\n",
    "# Garage Numericals fillna with 0\n",
    "df['GarageYrBlt'] = df['GarageYrBlt'].fillna(0)\n",
    "\n",
    "# Garage Columns Catagories\n",
    "gar_str_cols = ['GarageType', 'GarageFinish', 'GarageQual', 'GarageCond']\n",
    "df[gar_str_cols] = df[gar_str_cols].fillna('None')"
   ]
  },
  {
   "cell_type": "code",
   "execution_count": 24,
   "id": "dae93409",
   "metadata": {
    "execution": {
     "iopub.execute_input": "2023-12-01T18:12:25.403765Z",
     "iopub.status.busy": "2023-12-01T18:12:25.403272Z",
     "iopub.status.idle": "2023-12-01T18:12:25.911997Z",
     "shell.execute_reply": "2023-12-01T18:12:25.910751Z"
    },
    "papermill": {
     "duration": 0.554483,
     "end_time": "2023-12-01T18:12:25.914942",
     "exception": false,
     "start_time": "2023-12-01T18:12:25.360459",
     "status": "completed"
    },
    "tags": []
   },
   "outputs": [
    {
     "data": {
      "image/png": "[encoded data removed]",
      "text/plain": [
       "<Figure size 1000x400 with 1 Axes>"
      ]
     },
     "metadata": {},
     "output_type": "display_data"
    }
   ],
   "source": [
    "fig, (ax1) = plt.subplots(nrows=1, ncols=1, figsize=(10, 4))\n",
    "percent_nan = percent_missing(df)\n",
    "sns.barplot(x=percent_nan.index, y = percent_nan, ax=ax1)\n",
    "plt.xticks(rotation=90)\n",
    "plt.ylim(0,100);"
   ]
  },
  {
   "cell_type": "markdown",
   "id": "e5db234b",
   "metadata": {
    "papermill": {
     "duration": 0.040963,
     "end_time": "2023-12-01T18:12:25.998232",
     "exception": false,
     "start_time": "2023-12-01T18:12:25.957269",
     "status": "completed"
    },
    "tags": []
   },
   "source": [
    "Left over fields with missing values."
   ]
  },
  {
   "cell_type": "code",
   "execution_count": 25,
   "id": "b29b244b",
   "metadata": {
    "execution": {
     "iopub.execute_input": "2023-12-01T18:12:26.082102Z",
     "iopub.status.busy": "2023-12-01T18:12:26.081268Z",
     "iopub.status.idle": "2023-12-01T18:12:26.104437Z",
     "shell.execute_reply": "2023-12-01T18:12:26.103446Z"
    },
    "papermill": {
     "duration": 0.068141,
     "end_time": "2023-12-01T18:12:26.106934",
     "exception": false,
     "start_time": "2023-12-01T18:12:26.038793",
     "status": "completed"
    },
    "tags": []
   },
   "outputs": [
    {
     "data": {
      "text/html": [
       "<div>\n",
       "<style scoped>\n",
       "    .dataframe tbody tr th:only-of-type {\n",
       "        vertical-align: middle;\n",
       "    }\n",
       "\n",
       "    .dataframe tbody tr th {\n",
       "        vertical-align: top;\n",
       "    }\n",
       "\n",
       "    .dataframe thead th {\n",
       "        text-align: right;\n",
       "    }\n",
       "</style>\n",
       "<table border=\"1\" class=\"dataframe\">\n",
       "  <thead>\n",
       "    <tr style=\"text-align: right;\">\n",
       "      <th></th>\n",
       "      <th>LotFrontage</th>\n",
       "      <th>FireplaceQu</th>\n",
       "      <th>MasVnrType</th>\n",
       "      <th>Fence</th>\n",
       "      <th>Alley</th>\n",
       "      <th>MiscFeature</th>\n",
       "      <th>PoolQC</th>\n",
       "    </tr>\n",
       "  </thead>\n",
       "  <tbody>\n",
       "    <tr>\n",
       "      <th>0</th>\n",
       "      <td>65.0</td>\n",
       "      <td>NaN</td>\n",
       "      <td>BrkFace</td>\n",
       "      <td>NaN</td>\n",
       "      <td>NaN</td>\n",
       "      <td>NaN</td>\n",
       "      <td>NaN</td>\n",
       "    </tr>\n",
       "    <tr>\n",
       "      <th>1</th>\n",
       "      <td>80.0</td>\n",
       "      <td>TA</td>\n",
       "      <td>NaN</td>\n",
       "      <td>NaN</td>\n",
       "      <td>NaN</td>\n",
       "      <td>NaN</td>\n",
       "      <td>NaN</td>\n",
       "    </tr>\n",
       "    <tr>\n",
       "      <th>2</th>\n",
       "      <td>68.0</td>\n",
       "      <td>TA</td>\n",
       "      <td>BrkFace</td>\n",
       "      <td>NaN</td>\n",
       "      <td>NaN</td>\n",
       "      <td>NaN</td>\n",
       "      <td>NaN</td>\n",
       "    </tr>\n",
       "    <tr>\n",
       "      <th>3</th>\n",
       "      <td>60.0</td>\n",
       "      <td>Gd</td>\n",
       "      <td>NaN</td>\n",
       "      <td>NaN</td>\n",
       "      <td>NaN</td>\n",
       "      <td>NaN</td>\n",
       "      <td>NaN</td>\n",
       "    </tr>\n",
       "    <tr>\n",
       "      <th>4</th>\n",
       "      <td>84.0</td>\n",
       "      <td>TA</td>\n",
       "      <td>BrkFace</td>\n",
       "      <td>NaN</td>\n",
       "      <td>NaN</td>\n",
       "      <td>NaN</td>\n",
       "      <td>NaN</td>\n",
       "    </tr>\n",
       "    <tr>\n",
       "      <th>...</th>\n",
       "      <td>...</td>\n",
       "      <td>...</td>\n",
       "      <td>...</td>\n",
       "      <td>...</td>\n",
       "      <td>...</td>\n",
       "      <td>...</td>\n",
       "      <td>...</td>\n",
       "    </tr>\n",
       "    <tr>\n",
       "      <th>2914</th>\n",
       "      <td>21.0</td>\n",
       "      <td>NaN</td>\n",
       "      <td>NaN</td>\n",
       "      <td>NaN</td>\n",
       "      <td>NaN</td>\n",
       "      <td>NaN</td>\n",
       "      <td>NaN</td>\n",
       "    </tr>\n",
       "    <tr>\n",
       "      <th>2915</th>\n",
       "      <td>21.0</td>\n",
       "      <td>NaN</td>\n",
       "      <td>NaN</td>\n",
       "      <td>NaN</td>\n",
       "      <td>NaN</td>\n",
       "      <td>NaN</td>\n",
       "      <td>NaN</td>\n",
       "    </tr>\n",
       "    <tr>\n",
       "      <th>2916</th>\n",
       "      <td>160.0</td>\n",
       "      <td>TA</td>\n",
       "      <td>NaN</td>\n",
       "      <td>NaN</td>\n",
       "      <td>NaN</td>\n",
       "      <td>NaN</td>\n",
       "      <td>NaN</td>\n",
       "    </tr>\n",
       "    <tr>\n",
       "      <th>2917</th>\n",
       "      <td>62.0</td>\n",
       "      <td>NaN</td>\n",
       "      <td>NaN</td>\n",
       "      <td>MnPrv</td>\n",
       "      <td>NaN</td>\n",
       "      <td>Shed</td>\n",
       "      <td>NaN</td>\n",
       "    </tr>\n",
       "    <tr>\n",
       "      <th>2918</th>\n",
       "      <td>74.0</td>\n",
       "      <td>TA</td>\n",
       "      <td>BrkFace</td>\n",
       "      <td>NaN</td>\n",
       "      <td>NaN</td>\n",
       "      <td>NaN</td>\n",
       "      <td>NaN</td>\n",
       "    </tr>\n",
       "  </tbody>\n",
       "</table>\n",
       "<p>2916 rows × 7 columns</p>\n",
       "</div>"
      ],
      "text/plain": [
       "      LotFrontage FireplaceQu MasVnrType  Fence Alley MiscFeature PoolQC\n",
       "0            65.0         NaN    BrkFace    NaN   NaN         NaN    NaN\n",
       "1            80.0          TA        NaN    NaN   NaN         NaN    NaN\n",
       "2            68.0          TA    BrkFace    NaN   NaN         NaN    NaN\n",
       "3            60.0          Gd        NaN    NaN   NaN         NaN    NaN\n",
       "4            84.0          TA    BrkFace    NaN   NaN         NaN    NaN\n",
       "...           ...         ...        ...    ...   ...         ...    ...\n",
       "2914         21.0         NaN        NaN    NaN   NaN         NaN    NaN\n",
       "2915         21.0         NaN        NaN    NaN   NaN         NaN    NaN\n",
       "2916        160.0          TA        NaN    NaN   NaN         NaN    NaN\n",
       "2917         62.0         NaN        NaN  MnPrv   NaN        Shed    NaN\n",
       "2918         74.0          TA    BrkFace    NaN   NaN         NaN    NaN\n",
       "\n",
       "[2916 rows x 7 columns]"
      ]
     },
     "execution_count": 25,
     "metadata": {},
     "output_type": "execute_result"
    }
   ],
   "source": [
    "df[['LotFrontage', 'FireplaceQu', 'MasVnrType', 'Fence', 'Alley', 'MiscFeature','PoolQC']]"
   ]
  },
  {
   "cell_type": "markdown",
   "id": "ec6fd13a",
   "metadata": {
    "papermill": {
     "duration": 0.040705,
     "end_time": "2023-12-01T18:12:26.188452",
     "exception": false,
     "start_time": "2023-12-01T18:12:26.147747",
     "status": "completed"
    },
    "tags": []
   },
   "source": [
    "Drop some of the fields that are pretty empty and fill some others with 'None' string"
   ]
  },
  {
   "cell_type": "code",
   "execution_count": 26,
   "id": "cbca021a",
   "metadata": {
    "execution": {
     "iopub.execute_input": "2023-12-01T18:12:26.272900Z",
     "iopub.status.busy": "2023-12-01T18:12:26.272011Z",
     "iopub.status.idle": "2023-12-01T18:12:26.284435Z",
     "shell.execute_reply": "2023-12-01T18:12:26.283155Z"
    },
    "papermill": {
     "duration": 0.05816,
     "end_time": "2023-12-01T18:12:26.287633",
     "exception": false,
     "start_time": "2023-12-01T18:12:26.229473",
     "status": "completed"
    },
    "tags": []
   },
   "outputs": [],
   "source": [
    "df = df.drop(['PoolQC','MiscFeature','Alley','Fence'],axis=1)\n",
    "df['FireplaceQu']= df['FireplaceQu'].fillna('None')\n",
    "df['MasVnrType']= df['MasVnrType'].fillna('None')"
   ]
  },
  {
   "cell_type": "markdown",
   "id": "7b18051b",
   "metadata": {
    "papermill": {
     "duration": 0.041494,
     "end_time": "2023-12-01T18:12:26.369946",
     "exception": false,
     "start_time": "2023-12-01T18:12:26.328452",
     "status": "completed"
    },
    "tags": []
   },
   "source": [
    "**For 'LotFrontage', fill the values with the average per neighborhood (assuming that houses in the same Neighborhoods are similar).**"
   ]
  },
  {
   "cell_type": "code",
   "execution_count": 27,
   "id": "020f583d",
   "metadata": {
    "execution": {
     "iopub.execute_input": "2023-12-01T18:12:26.461557Z",
     "iopub.status.busy": "2023-12-01T18:12:26.460744Z",
     "iopub.status.idle": "2023-12-01T18:12:26.471357Z",
     "shell.execute_reply": "2023-12-01T18:12:26.470065Z"
    },
    "papermill": {
     "duration": 0.058797,
     "end_time": "2023-12-01T18:12:26.473990",
     "exception": false,
     "start_time": "2023-12-01T18:12:26.415193",
     "status": "completed"
    },
    "tags": []
   },
   "outputs": [
    {
     "data": {
      "text/plain": [
       "array(['CollgCr', 'Veenker', 'Crawfor', 'NoRidge', 'Mitchel', 'Somerst',\n",
       "       'NWAmes', 'OldTown', 'BrkSide', 'Sawyer', 'NridgHt', 'NAmes',\n",
       "       'SawyerW', 'IDOTRR', 'MeadowV', 'Edwards', 'Timber', 'Gilbert',\n",
       "       'StoneBr', 'ClearCr', 'NPkVill', 'Blmngtn', 'BrDale', 'SWISU',\n",
       "       'Blueste'], dtype=object)"
      ]
     },
     "execution_count": 27,
     "metadata": {},
     "output_type": "execute_result"
    }
   ],
   "source": [
    "df['Neighborhood'].unique()"
   ]
  },
  {
   "cell_type": "code",
   "execution_count": 28,
   "id": "8dc33d17",
   "metadata": {
    "execution": {
     "iopub.execute_input": "2023-12-01T18:12:26.559157Z",
     "iopub.status.busy": "2023-12-01T18:12:26.558646Z",
     "iopub.status.idle": "2023-12-01T18:12:27.465797Z",
     "shell.execute_reply": "2023-12-01T18:12:27.464420Z"
    },
    "papermill": {
     "duration": 0.9526,
     "end_time": "2023-12-01T18:12:27.468578",
     "exception": false,
     "start_time": "2023-12-01T18:12:26.515978",
     "status": "completed"
    },
    "tags": []
   },
   "outputs": [
    {
     "data": {
      "text/plain": [
       "<Axes: xlabel='LotFrontage', ylabel='Neighborhood'>"
      ]
     },
     "execution_count": 28,
     "metadata": {},
     "output_type": "execute_result"
    },
    {
     "data": {
      "image/png": "[encoded data removed]",
      "text/plain": [
       "<Figure size 800x1200 with 1 Axes>"
      ]
     },
     "metadata": {},
     "output_type": "display_data"
    }
   ],
   "source": [
    "plt.figure(figsize=(8,12))\n",
    "sns.boxplot(x='LotFrontage',y='Neighborhood',data=df,orient='h')"
   ]
  },
  {
   "cell_type": "code",
   "execution_count": 29,
   "id": "ae5ef417",
   "metadata": {
    "execution": {
     "iopub.execute_input": "2023-12-01T18:12:27.554038Z",
     "iopub.status.busy": "2023-12-01T18:12:27.553559Z",
     "iopub.status.idle": "2023-12-01T18:12:27.571285Z",
     "shell.execute_reply": "2023-12-01T18:12:27.570035Z"
    },
    "papermill": {
     "duration": 0.063727,
     "end_time": "2023-12-01T18:12:27.573591",
     "exception": false,
     "start_time": "2023-12-01T18:12:27.509864",
     "status": "completed"
    },
    "tags": []
   },
   "outputs": [
    {
     "data": {
      "text/plain": [
       "Neighborhood\n",
       "Blmngtn    47.142857\n",
       "Blueste    24.000000\n",
       "BrDale     21.562500\n",
       "BrkSide    57.509804\n",
       "ClearCr    83.461538\n",
       "CollgCr    71.682540\n",
       "Crawfor    71.804878\n",
       "Edwards    68.217391\n",
       "Gilbert    79.877551\n",
       "IDOTRR     62.500000\n",
       "MeadowV    27.800000\n",
       "Mitchel    70.083333\n",
       "NAmes      76.462366\n",
       "NPkVill    32.285714\n",
       "NWAmes     81.288889\n",
       "NoRidge    91.878788\n",
       "NridgHt    81.881579\n",
       "OldTown    62.788991\n",
       "SWISU      58.913043\n",
       "Sawyer     74.437500\n",
       "SawyerW    71.500000\n",
       "Somerst    64.666667\n",
       "StoneBr    62.700000\n",
       "Timber     80.133333\n",
       "Veenker    59.714286\n",
       "Name: LotFrontage, dtype: float64"
      ]
     },
     "execution_count": 29,
     "metadata": {},
     "output_type": "execute_result"
    }
   ],
   "source": [
    "# Calculate the mean of the *training only* grouped values\n",
    "df_train.groupby('Neighborhood')['LotFrontage'].mean()"
   ]
  },
  {
   "cell_type": "code",
   "execution_count": 30,
   "id": "8f8ade43",
   "metadata": {
    "execution": {
     "iopub.execute_input": "2023-12-01T18:12:27.658943Z",
     "iopub.status.busy": "2023-12-01T18:12:27.658469Z",
     "iopub.status.idle": "2023-12-01T18:12:27.681799Z",
     "shell.execute_reply": "2023-12-01T18:12:27.680656Z"
    },
    "papermill": {
     "duration": 0.069204,
     "end_time": "2023-12-01T18:12:27.684275",
     "exception": false,
     "start_time": "2023-12-01T18:12:27.615071",
     "status": "completed"
    },
    "tags": []
   },
   "outputs": [],
   "source": [
    "df['LotFrontage'] = df_train.groupby('Neighborhood')['LotFrontage'].transform(lambda val: val.fillna(val.mean()))\n",
    "df['LotFrontage'] = df['LotFrontage'].fillna(0)"
   ]
  },
  {
   "cell_type": "code",
   "execution_count": 31,
   "id": "ba9044a7",
   "metadata": {
    "execution": {
     "iopub.execute_input": "2023-12-01T18:12:27.771745Z",
     "iopub.status.busy": "2023-12-01T18:12:27.771293Z",
     "iopub.status.idle": "2023-12-01T18:12:28.192993Z",
     "shell.execute_reply": "2023-12-01T18:12:28.191484Z"
    },
    "papermill": {
     "duration": 0.469535,
     "end_time": "2023-12-01T18:12:28.196075",
     "exception": false,
     "start_time": "2023-12-01T18:12:27.726540",
     "status": "completed"
    },
    "tags": []
   },
   "outputs": [
    {
     "data": {
      "image/png": "[encoded data removed]",
      "text/plain": [
       "<Figure size 1000x400 with 1 Axes>"
      ]
     },
     "metadata": {},
     "output_type": "display_data"
    }
   ],
   "source": [
    "fig, (ax1) = plt.subplots(nrows=1, ncols=1, figsize=(10, 4))\n",
    "percent_nan = percent_missing(df)\n",
    "sns.barplot(x=percent_nan.index, y = percent_nan, ax=ax1)\n",
    "plt.xticks(rotation=90)\n",
    "plt.ylim(0,100);"
   ]
  },
  {
   "cell_type": "markdown",
   "id": "ba4f0b6a",
   "metadata": {
    "papermill": {
     "duration": 0.042546,
     "end_time": "2023-12-01T18:12:28.282086",
     "exception": false,
     "start_time": "2023-12-01T18:12:28.239540",
     "status": "completed"
    },
    "tags": []
   },
   "source": [
    "The left overs I will just fill with 0s"
   ]
  },
  {
   "cell_type": "code",
   "execution_count": 32,
   "id": "fd864f33",
   "metadata": {
    "execution": {
     "iopub.execute_input": "2023-12-01T18:12:28.371244Z",
     "iopub.status.busy": "2023-12-01T18:12:28.370452Z",
     "iopub.status.idle": "2023-12-01T18:12:28.395864Z",
     "shell.execute_reply": "2023-12-01T18:12:28.394708Z"
    },
    "papermill": {
     "duration": 0.074211,
     "end_time": "2023-12-01T18:12:28.398785",
     "exception": false,
     "start_time": "2023-12-01T18:12:28.324574",
     "status": "completed"
    },
    "tags": []
   },
   "outputs": [],
   "source": [
    "df = df.fillna(0)"
   ]
  },
  {
   "cell_type": "markdown",
   "id": "cff970f9",
   "metadata": {
    "papermill": {
     "duration": 0.042376,
     "end_time": "2023-12-01T18:12:28.485280",
     "exception": false,
     "start_time": "2023-12-01T18:12:28.442904",
     "status": "completed"
    },
    "tags": []
   },
   "source": [
    "### The data are all filled and cleaned with all columns having non-null values"
   ]
  },
  {
   "cell_type": "code",
   "execution_count": 33,
   "id": "37dd6eb9",
   "metadata": {
    "execution": {
     "iopub.execute_input": "2023-12-01T18:12:28.590375Z",
     "iopub.status.busy": "2023-12-01T18:12:28.589658Z",
     "iopub.status.idle": "2023-12-01T18:12:28.635335Z",
     "shell.execute_reply": "2023-12-01T18:12:28.633956Z"
    },
    "papermill": {
     "duration": 0.104257,
     "end_time": "2023-12-01T18:12:28.638330",
     "exception": false,
     "start_time": "2023-12-01T18:12:28.534073",
     "status": "completed"
    },
    "tags": []
   },
   "outputs": [
    {
     "name": "stdout",
     "output_type": "stream",
     "text": [
      "<class 'pandas.core.frame.DataFrame'>\n",
      "Index: 2916 entries, 0 to 2918\n",
      "Data columns (total 77 columns):\n",
      " #   Column         Non-Null Count  Dtype  \n",
      "---  ------         --------------  -----  \n",
      " 0   Id             2916 non-null   int64  \n",
      " 1   MSSubClass     2916 non-null   int64  \n",
      " 2   MSZoning       2916 non-null   object \n",
      " 3   LotFrontage    2916 non-null   float64\n",
      " 4   LotArea        2916 non-null   int64  \n",
      " 5   Street         2916 non-null   object \n",
      " 6   LotShape       2916 non-null   object \n",
      " 7   LandContour    2916 non-null   object \n",
      " 8   Utilities      2916 non-null   object \n",
      " 9   LotConfig      2916 non-null   object \n",
      " 10  LandSlope      2916 non-null   object \n",
      " 11  Neighborhood   2916 non-null   object \n",
      " 12  Condition1     2916 non-null   object \n",
      " 13  Condition2     2916 non-null   object \n",
      " 14  BldgType       2916 non-null   object \n",
      " 15  HouseStyle     2916 non-null   object \n",
      " 16  OverallQual    2916 non-null   int64  \n",
      " 17  OverallCond    2916 non-null   int64  \n",
      " 18  YearBuilt      2916 non-null   int64  \n",
      " 19  YearRemodAdd   2916 non-null   int64  \n",
      " 20  RoofStyle      2916 non-null   object \n",
      " 21  RoofMatl       2916 non-null   object \n",
      " 22  Exterior1st    2916 non-null   object \n",
      " 23  Exterior2nd    2916 non-null   object \n",
      " 24  MasVnrType     2916 non-null   object \n",
      " 25  MasVnrArea     2916 non-null   float64\n",
      " 26  ExterQual      2916 non-null   object \n",
      " 27  ExterCond      2916 non-null   object \n",
      " 28  Foundation     2916 non-null   object \n",
      " 29  BsmtQual       2916 non-null   object \n",
      " 30  BsmtCond       2916 non-null   object \n",
      " 31  BsmtExposure   2916 non-null   object \n",
      " 32  BsmtFinType1   2916 non-null   object \n",
      " 33  BsmtFinSF1     2916 non-null   float64\n",
      " 34  BsmtFinType2   2916 non-null   object \n",
      " 35  BsmtFinSF2     2916 non-null   float64\n",
      " 36  BsmtUnfSF      2916 non-null   float64\n",
      " 37  TotalBsmtSF    2916 non-null   float64\n",
      " 38  Heating        2916 non-null   object \n",
      " 39  HeatingQC      2916 non-null   object \n",
      " 40  CentralAir     2916 non-null   object \n",
      " 41  Electrical     2916 non-null   object \n",
      " 42  1stFlrSF       2916 non-null   int64  \n",
      " 43  2ndFlrSF       2916 non-null   int64  \n",
      " 44  LowQualFinSF   2916 non-null   int64  \n",
      " 45  GrLivArea      2916 non-null   int64  \n",
      " 46  BsmtFullBath   2916 non-null   float64\n",
      " 47  BsmtHalfBath   2916 non-null   float64\n",
      " 48  FullBath       2916 non-null   int64  \n",
      " 49  HalfBath       2916 non-null   int64  \n",
      " 50  BedroomAbvGr   2916 non-null   int64  \n",
      " 51  KitchenAbvGr   2916 non-null   int64  \n",
      " 52  KitchenQual    2916 non-null   object \n",
      " 53  TotRmsAbvGrd   2916 non-null   int64  \n",
      " 54  Functional     2916 non-null   object \n",
      " 55  Fireplaces     2916 non-null   int64  \n",
      " 56  FireplaceQu    2916 non-null   object \n",
      " 57  GarageType     2916 non-null   object \n",
      " 58  GarageYrBlt    2916 non-null   float64\n",
      " 59  GarageFinish   2916 non-null   object \n",
      " 60  GarageCars     2916 non-null   float64\n",
      " 61  GarageArea     2916 non-null   float64\n",
      " 62  GarageQual     2916 non-null   object \n",
      " 63  GarageCond     2916 non-null   object \n",
      " 64  PavedDrive     2916 non-null   object \n",
      " 65  WoodDeckSF     2916 non-null   int64  \n",
      " 66  OpenPorchSF    2916 non-null   int64  \n",
      " 67  EnclosedPorch  2916 non-null   int64  \n",
      " 68  3SsnPorch      2916 non-null   int64  \n",
      " 69  ScreenPorch    2916 non-null   int64  \n",
      " 70  PoolArea       2916 non-null   int64  \n",
      " 71  MiscVal        2916 non-null   int64  \n",
      " 72  MoSold         2916 non-null   int64  \n",
      " 73  YrSold         2916 non-null   int64  \n",
      " 74  SaleType       2916 non-null   object \n",
      " 75  SaleCondition  2916 non-null   object \n",
      " 76  SalePrice      2916 non-null   float64\n",
      "dtypes: float64(12), int64(26), object(39)\n",
      "memory usage: 1.7+ MB\n"
     ]
    }
   ],
   "source": [
    "df.info()"
   ]
  },
  {
   "cell_type": "markdown",
   "id": "d66d6607",
   "metadata": {
    "papermill": {
     "duration": 0.043179,
     "end_time": "2023-12-01T18:12:28.725632",
     "exception": false,
     "start_time": "2023-12-01T18:12:28.682453",
     "status": "completed"
    },
    "tags": []
   },
   "source": [
    "# Split the cleaned data back out for train and test\n",
    "### Use Numerical and Convert the catagorical data to dummy variables as comparison"
   ]
  },
  {
   "cell_type": "code",
   "execution_count": 34,
   "id": "11a68396",
   "metadata": {
    "execution": {
     "iopub.execute_input": "2023-12-01T18:12:28.814117Z",
     "iopub.status.busy": "2023-12-01T18:12:28.813657Z",
     "iopub.status.idle": "2023-12-01T18:12:28.843273Z",
     "shell.execute_reply": "2023-12-01T18:12:28.841964Z"
    },
    "papermill": {
     "duration": 0.077506,
     "end_time": "2023-12-01T18:12:28.846104",
     "exception": false,
     "start_time": "2023-12-01T18:12:28.768598",
     "status": "completed"
    },
    "tags": []
   },
   "outputs": [
    {
     "data": {
      "text/html": [
       "<div>\n",
       "<style scoped>\n",
       "    .dataframe tbody tr th:only-of-type {\n",
       "        vertical-align: middle;\n",
       "    }\n",
       "\n",
       "    .dataframe tbody tr th {\n",
       "        vertical-align: top;\n",
       "    }\n",
       "\n",
       "    .dataframe thead th {\n",
       "        text-align: right;\n",
       "    }\n",
       "</style>\n",
       "<table border=\"1\" class=\"dataframe\">\n",
       "  <thead>\n",
       "    <tr style=\"text-align: right;\">\n",
       "      <th></th>\n",
       "      <th>Id</th>\n",
       "      <th>MSSubClass</th>\n",
       "      <th>MSZoning</th>\n",
       "      <th>LotFrontage</th>\n",
       "      <th>LotArea</th>\n",
       "      <th>Street</th>\n",
       "      <th>LotShape</th>\n",
       "      <th>LandContour</th>\n",
       "      <th>Utilities</th>\n",
       "      <th>LotConfig</th>\n",
       "      <th>...</th>\n",
       "      <th>EnclosedPorch</th>\n",
       "      <th>3SsnPorch</th>\n",
       "      <th>ScreenPorch</th>\n",
       "      <th>PoolArea</th>\n",
       "      <th>MiscVal</th>\n",
       "      <th>MoSold</th>\n",
       "      <th>YrSold</th>\n",
       "      <th>SaleType</th>\n",
       "      <th>SaleCondition</th>\n",
       "      <th>SalePrice</th>\n",
       "    </tr>\n",
       "  </thead>\n",
       "  <tbody>\n",
       "    <tr>\n",
       "      <th>1455</th>\n",
       "      <td>1456</td>\n",
       "      <td>60</td>\n",
       "      <td>RL</td>\n",
       "      <td>62.0</td>\n",
       "      <td>7917</td>\n",
       "      <td>Pave</td>\n",
       "      <td>Reg</td>\n",
       "      <td>Lvl</td>\n",
       "      <td>AllPub</td>\n",
       "      <td>Inside</td>\n",
       "      <td>...</td>\n",
       "      <td>0</td>\n",
       "      <td>0</td>\n",
       "      <td>0</td>\n",
       "      <td>0</td>\n",
       "      <td>0</td>\n",
       "      <td>8</td>\n",
       "      <td>2007</td>\n",
       "      <td>WD</td>\n",
       "      <td>Normal</td>\n",
       "      <td>175000.0</td>\n",
       "    </tr>\n",
       "    <tr>\n",
       "      <th>1456</th>\n",
       "      <td>1457</td>\n",
       "      <td>20</td>\n",
       "      <td>RL</td>\n",
       "      <td>85.0</td>\n",
       "      <td>13175</td>\n",
       "      <td>Pave</td>\n",
       "      <td>Reg</td>\n",
       "      <td>Lvl</td>\n",
       "      <td>AllPub</td>\n",
       "      <td>Inside</td>\n",
       "      <td>...</td>\n",
       "      <td>0</td>\n",
       "      <td>0</td>\n",
       "      <td>0</td>\n",
       "      <td>0</td>\n",
       "      <td>0</td>\n",
       "      <td>2</td>\n",
       "      <td>2010</td>\n",
       "      <td>WD</td>\n",
       "      <td>Normal</td>\n",
       "      <td>210000.0</td>\n",
       "    </tr>\n",
       "    <tr>\n",
       "      <th>1457</th>\n",
       "      <td>1458</td>\n",
       "      <td>70</td>\n",
       "      <td>RL</td>\n",
       "      <td>66.0</td>\n",
       "      <td>9042</td>\n",
       "      <td>Pave</td>\n",
       "      <td>Reg</td>\n",
       "      <td>Lvl</td>\n",
       "      <td>AllPub</td>\n",
       "      <td>Inside</td>\n",
       "      <td>...</td>\n",
       "      <td>0</td>\n",
       "      <td>0</td>\n",
       "      <td>0</td>\n",
       "      <td>0</td>\n",
       "      <td>2500</td>\n",
       "      <td>5</td>\n",
       "      <td>2010</td>\n",
       "      <td>WD</td>\n",
       "      <td>Normal</td>\n",
       "      <td>266500.0</td>\n",
       "    </tr>\n",
       "    <tr>\n",
       "      <th>1458</th>\n",
       "      <td>1459</td>\n",
       "      <td>20</td>\n",
       "      <td>RL</td>\n",
       "      <td>68.0</td>\n",
       "      <td>9717</td>\n",
       "      <td>Pave</td>\n",
       "      <td>Reg</td>\n",
       "      <td>Lvl</td>\n",
       "      <td>AllPub</td>\n",
       "      <td>Inside</td>\n",
       "      <td>...</td>\n",
       "      <td>112</td>\n",
       "      <td>0</td>\n",
       "      <td>0</td>\n",
       "      <td>0</td>\n",
       "      <td>0</td>\n",
       "      <td>4</td>\n",
       "      <td>2010</td>\n",
       "      <td>WD</td>\n",
       "      <td>Normal</td>\n",
       "      <td>142125.0</td>\n",
       "    </tr>\n",
       "    <tr>\n",
       "      <th>1459</th>\n",
       "      <td>1460</td>\n",
       "      <td>20</td>\n",
       "      <td>RL</td>\n",
       "      <td>75.0</td>\n",
       "      <td>9937</td>\n",
       "      <td>Pave</td>\n",
       "      <td>Reg</td>\n",
       "      <td>Lvl</td>\n",
       "      <td>AllPub</td>\n",
       "      <td>Inside</td>\n",
       "      <td>...</td>\n",
       "      <td>0</td>\n",
       "      <td>0</td>\n",
       "      <td>0</td>\n",
       "      <td>0</td>\n",
       "      <td>0</td>\n",
       "      <td>6</td>\n",
       "      <td>2008</td>\n",
       "      <td>WD</td>\n",
       "      <td>Normal</td>\n",
       "      <td>147500.0</td>\n",
       "    </tr>\n",
       "  </tbody>\n",
       "</table>\n",
       "<p>5 rows × 77 columns</p>\n",
       "</div>"
      ],
      "text/plain": [
       "        Id  MSSubClass MSZoning  LotFrontage  LotArea Street LotShape  \\\n",
       "1455  1456          60       RL         62.0     7917   Pave      Reg   \n",
       "1456  1457          20       RL         85.0    13175   Pave      Reg   \n",
       "1457  1458          70       RL         66.0     9042   Pave      Reg   \n",
       "1458  1459          20       RL         68.0     9717   Pave      Reg   \n",
       "1459  1460          20       RL         75.0     9937   Pave      Reg   \n",
       "\n",
       "     LandContour Utilities LotConfig  ... EnclosedPorch 3SsnPorch ScreenPorch  \\\n",
       "1455         Lvl    AllPub    Inside  ...             0         0           0   \n",
       "1456         Lvl    AllPub    Inside  ...             0         0           0   \n",
       "1457         Lvl    AllPub    Inside  ...             0         0           0   \n",
       "1458         Lvl    AllPub    Inside  ...           112         0           0   \n",
       "1459         Lvl    AllPub    Inside  ...             0         0           0   \n",
       "\n",
       "     PoolArea MiscVal MoSold  YrSold  SaleType  SaleCondition  SalePrice  \n",
       "1455        0       0      8    2007        WD         Normal   175000.0  \n",
       "1456        0       0      2    2010        WD         Normal   210000.0  \n",
       "1457        0    2500      5    2010        WD         Normal   266500.0  \n",
       "1458        0       0      4    2010        WD         Normal   142125.0  \n",
       "1459        0       0      6    2008        WD         Normal   147500.0  \n",
       "\n",
       "[5 rows x 77 columns]"
      ]
     },
     "execution_count": 34,
     "metadata": {},
     "output_type": "execute_result"
    }
   ],
   "source": [
    "df_train = df[0:train_len]\n",
    "df_test = df[train_len:]\n",
    "df_train.tail()"
   ]
  },
  {
   "cell_type": "code",
   "execution_count": 35,
   "id": "e27c7c5b",
   "metadata": {
    "execution": {
     "iopub.execute_input": "2023-12-01T18:12:28.938527Z",
     "iopub.status.busy": "2023-12-01T18:12:28.937817Z",
     "iopub.status.idle": "2023-12-01T18:12:28.948689Z",
     "shell.execute_reply": "2023-12-01T18:12:28.947277Z"
    },
    "papermill": {
     "duration": 0.058554,
     "end_time": "2023-12-01T18:12:28.951424",
     "exception": false,
     "start_time": "2023-12-01T18:12:28.892870",
     "status": "completed"
    },
    "tags": []
   },
   "outputs": [],
   "source": [
    "df_numeric = df.select_dtypes(exclude='object')\n",
    "df_object = df.select_dtypes(include='object')"
   ]
  },
  {
   "cell_type": "code",
   "execution_count": 36,
   "id": "abb57259",
   "metadata": {
    "execution": {
     "iopub.execute_input": "2023-12-01T18:12:29.041165Z",
     "iopub.status.busy": "2023-12-01T18:12:29.040374Z",
     "iopub.status.idle": "2023-12-01T18:12:29.105230Z",
     "shell.execute_reply": "2023-12-01T18:12:29.103777Z"
    },
    "papermill": {
     "duration": 0.113392,
     "end_time": "2023-12-01T18:12:29.108546",
     "exception": false,
     "start_time": "2023-12-01T18:12:28.995154",
     "status": "completed"
    },
    "tags": []
   },
   "outputs": [],
   "source": [
    "df_object_dummies = pd.get_dummies(df_object, drop_first=True, dtype=int)\n",
    "df_dummies = pd.concat([df_numeric, df_object_dummies], axis = 1)"
   ]
  },
  {
   "cell_type": "markdown",
   "id": "b5ee78f3",
   "metadata": {
    "papermill": {
     "duration": 0.043235,
     "end_time": "2023-12-01T18:12:29.195487",
     "exception": false,
     "start_time": "2023-12-01T18:12:29.152252",
     "status": "completed"
    },
    "tags": []
   },
   "source": [
    "### Split data using the dummy data so ther same split is used for both versions"
   ]
  },
  {
   "cell_type": "code",
   "execution_count": 37,
   "id": "5ef5075c",
   "metadata": {
    "execution": {
     "iopub.execute_input": "2023-12-01T18:12:29.286167Z",
     "iopub.status.busy": "2023-12-01T18:12:29.285484Z",
     "iopub.status.idle": "2023-12-01T18:12:29.297185Z",
     "shell.execute_reply": "2023-12-01T18:12:29.296219Z"
    },
    "papermill": {
     "duration": 0.059719,
     "end_time": "2023-12-01T18:12:29.299395",
     "exception": false,
     "start_time": "2023-12-01T18:12:29.239676",
     "status": "completed"
    },
    "tags": []
   },
   "outputs": [],
   "source": [
    "df_dummy_train = df_dummies[0:train_len]\n",
    "df_dummy_test = df_dummies[train_len:]\n",
    "# Final Test Data set\n",
    "df_dummy_test.drop('SalePrice',axis=1, inplace=True)"
   ]
  },
  {
   "cell_type": "code",
   "execution_count": 38,
   "id": "79a8b1a4",
   "metadata": {
    "execution": {
     "iopub.execute_input": "2023-12-01T18:12:29.389122Z",
     "iopub.status.busy": "2023-12-01T18:12:29.388151Z",
     "iopub.status.idle": "2023-12-01T18:12:29.657524Z",
     "shell.execute_reply": "2023-12-01T18:12:29.656611Z"
    },
    "papermill": {
     "duration": 0.316984,
     "end_time": "2023-12-01T18:12:29.659834",
     "exception": false,
     "start_time": "2023-12-01T18:12:29.342850",
     "status": "completed"
    },
    "tags": []
   },
   "outputs": [
    {
     "data": {
      "text/plain": [
       "SalePrice               1.000000\n",
       "OverallQual             0.795863\n",
       "GrLivArea               0.734962\n",
       "TotalBsmtSF             0.651553\n",
       "GarageCars              0.641111\n",
       "1stFlrSF                0.631667\n",
       "GarageArea              0.629209\n",
       "FullBath                0.562384\n",
       "TotRmsAbvGrd            0.537826\n",
       "YearBuilt               0.523986\n",
       "KitchenQual_Ex          0.509411\n",
       "YearRemodAdd            0.508047\n",
       "Foundation_PConc        0.498692\n",
       "MasVnrArea              0.477802\n",
       "Fireplaces              0.469903\n",
       "ExterQual_Gd            0.452529\n",
       "BsmtFinType1_GLQ        0.435577\n",
       "BsmtFinSF1              0.409415\n",
       "Neighborhood_NridgHt    0.402123\n",
       "LotFrontage             0.364668\n",
       "Name: SalePrice, dtype: float64"
      ]
     },
     "execution_count": 38,
     "metadata": {},
     "output_type": "execute_result"
    }
   ],
   "source": [
    "df_dummy_train.corr()['SalePrice'].sort_values(ascending=False)[0:20]"
   ]
  },
  {
   "cell_type": "markdown",
   "id": "a1626761",
   "metadata": {
    "papermill": {
     "duration": 0.043321,
     "end_time": "2023-12-01T18:12:29.747093",
     "exception": false,
     "start_time": "2023-12-01T18:12:29.703772",
     "status": "completed"
    },
    "tags": []
   },
   "source": [
    "-----\n",
    "# Data has been cleaned and is ready for some learning and regression predictions\n",
    "### Split data using the dummy data so ther same split is used for both versions"
   ]
  },
  {
   "cell_type": "code",
   "execution_count": 39,
   "id": "3419f5b8",
   "metadata": {
    "execution": {
     "iopub.execute_input": "2023-12-01T18:12:29.837312Z",
     "iopub.status.busy": "2023-12-01T18:12:29.836589Z",
     "iopub.status.idle": "2023-12-01T18:12:29.845615Z",
     "shell.execute_reply": "2023-12-01T18:12:29.844688Z"
    },
    "papermill": {
     "duration": 0.05667,
     "end_time": "2023-12-01T18:12:29.848151",
     "exception": false,
     "start_time": "2023-12-01T18:12:29.791481",
     "status": "completed"
    },
    "tags": []
   },
   "outputs": [],
   "source": [
    "X = df_dummy_train.drop('SalePrice', axis=1)\n",
    "y = df_dummy_train['SalePrice']\n",
    "num_cols = df_numeric.columns"
   ]
  },
  {
   "cell_type": "code",
   "execution_count": 40,
   "id": "b5d995dc",
   "metadata": {
    "execution": {
     "iopub.execute_input": "2023-12-01T18:12:29.937767Z",
     "iopub.status.busy": "2023-12-01T18:12:29.937045Z",
     "iopub.status.idle": "2023-12-01T18:12:30.217533Z",
     "shell.execute_reply": "2023-12-01T18:12:30.215964Z"
    },
    "papermill": {
     "duration": 0.329109,
     "end_time": "2023-12-01T18:12:30.220787",
     "exception": false,
     "start_time": "2023-12-01T18:12:29.891678",
     "status": "completed"
    },
    "tags": []
   },
   "outputs": [],
   "source": [
    "from sklearn.model_selection import train_test_split"
   ]
  },
  {
   "cell_type": "code",
   "execution_count": 41,
   "id": "0e9b4711",
   "metadata": {
    "execution": {
     "iopub.execute_input": "2023-12-01T18:12:30.311437Z",
     "iopub.status.busy": "2023-12-01T18:12:30.310995Z",
     "iopub.status.idle": "2023-12-01T18:12:30.326007Z",
     "shell.execute_reply": "2023-12-01T18:12:30.325113Z"
    },
    "papermill": {
     "duration": 0.063333,
     "end_time": "2023-12-01T18:12:30.328604",
     "exception": false,
     "start_time": "2023-12-01T18:12:30.265271",
     "status": "completed"
    },
    "tags": []
   },
   "outputs": [],
   "source": [
    "# Train test split 90% train and 10% test\n",
    "X_train, X_test, y_train, y_test = train_test_split(X, y, test_size=0.1, random_state=814)"
   ]
  },
  {
   "cell_type": "markdown",
   "id": "e0327ebc",
   "metadata": {
    "execution": {
     "iopub.execute_input": "2023-11-22T18:19:19.760757Z",
     "iopub.status.busy": "2023-11-22T18:19:19.760348Z",
     "iopub.status.idle": "2023-11-22T18:19:19.765874Z",
     "shell.execute_reply": "2023-11-22T18:19:19.764521Z",
     "shell.execute_reply.started": "2023-11-22T18:19:19.760726Z"
    },
    "papermill": {
     "duration": 0.042614,
     "end_time": "2023-12-01T18:12:30.414360",
     "exception": false,
     "start_time": "2023-12-01T18:12:30.371746",
     "status": "completed"
    },
    "tags": []
   },
   "source": [
    "### First test: Elastic Net with just the numerical feature columns"
   ]
  },
  {
   "cell_type": "code",
   "execution_count": 42,
   "id": "e8661229",
   "metadata": {
    "execution": {
     "iopub.execute_input": "2023-12-01T18:12:30.504339Z",
     "iopub.status.busy": "2023-12-01T18:12:30.503441Z",
     "iopub.status.idle": "2023-12-01T18:12:30.512620Z",
     "shell.execute_reply": "2023-12-01T18:12:30.511466Z"
    },
    "papermill": {
     "duration": 0.056908,
     "end_time": "2023-12-01T18:12:30.515161",
     "exception": false,
     "start_time": "2023-12-01T18:12:30.458253",
     "status": "completed"
    },
    "tags": []
   },
   "outputs": [],
   "source": [
    "X_train_num = X_train[num_cols.drop('SalePrice')]\n",
    "X_test_num = X_test[num_cols.drop('SalePrice')]"
   ]
  },
  {
   "cell_type": "code",
   "execution_count": 43,
   "id": "f6689ba5",
   "metadata": {
    "execution": {
     "iopub.execute_input": "2023-12-01T18:12:30.604449Z",
     "iopub.status.busy": "2023-12-01T18:12:30.603673Z",
     "iopub.status.idle": "2023-12-01T18:12:30.609646Z",
     "shell.execute_reply": "2023-12-01T18:12:30.608530Z"
    },
    "papermill": {
     "duration": 0.053861,
     "end_time": "2023-12-01T18:12:30.611741",
     "exception": false,
     "start_time": "2023-12-01T18:12:30.557880",
     "status": "completed"
    },
    "tags": []
   },
   "outputs": [],
   "source": [
    "from sklearn.preprocessing import StandardScaler\n",
    "scaler = StandardScaler()"
   ]
  },
  {
   "cell_type": "code",
   "execution_count": 44,
   "id": "910d6909",
   "metadata": {
    "execution": {
     "iopub.execute_input": "2023-12-01T18:12:30.702095Z",
     "iopub.status.busy": "2023-12-01T18:12:30.701264Z",
     "iopub.status.idle": "2023-12-01T18:12:30.717169Z",
     "shell.execute_reply": "2023-12-01T18:12:30.715928Z"
    },
    "papermill": {
     "duration": 0.064449,
     "end_time": "2023-12-01T18:12:30.720034",
     "exception": false,
     "start_time": "2023-12-01T18:12:30.655585",
     "status": "completed"
    },
    "tags": []
   },
   "outputs": [],
   "source": [
    "scaler.fit(X_train_num)\n",
    "scaled_X_train_num = scaler.transform(X_train_num)\n",
    "scaled_X_test_num = scaler.transform(X_test_num)"
   ]
  },
  {
   "cell_type": "code",
   "execution_count": 45,
   "id": "022ce168",
   "metadata": {
    "execution": {
     "iopub.execute_input": "2023-12-01T18:12:30.809723Z",
     "iopub.status.busy": "2023-12-01T18:12:30.809215Z",
     "iopub.status.idle": "2023-12-01T18:12:30.914536Z",
     "shell.execute_reply": "2023-12-01T18:12:30.913286Z"
    },
    "papermill": {
     "duration": 0.153293,
     "end_time": "2023-12-01T18:12:30.917419",
     "exception": false,
     "start_time": "2023-12-01T18:12:30.764126",
     "status": "completed"
    },
    "tags": []
   },
   "outputs": [],
   "source": [
    "from sklearn.linear_model import ElasticNet\n",
    "from sklearn.model_selection import GridSearchCV"
   ]
  },
  {
   "cell_type": "code",
   "execution_count": 46,
   "id": "b3332df2",
   "metadata": {
    "execution": {
     "iopub.execute_input": "2023-12-01T18:12:31.007003Z",
     "iopub.status.busy": "2023-12-01T18:12:31.005606Z",
     "iopub.status.idle": "2023-12-01T18:12:31.011690Z",
     "shell.execute_reply": "2023-12-01T18:12:31.010822Z"
    },
    "papermill": {
     "duration": 0.053734,
     "end_time": "2023-12-01T18:12:31.014039",
     "exception": false,
     "start_time": "2023-12-01T18:12:30.960305",
     "status": "completed"
    },
    "tags": []
   },
   "outputs": [],
   "source": [
    "EN_model = ElasticNet(max_iter=10000)\n",
    "param_grid = {'alpha':[0.1,1,5,10,50,100,200], \n",
    "              'l1_ratio':[0.1,0.5,0.7,0.95,0.99,1]}"
   ]
  },
  {
   "cell_type": "code",
   "execution_count": 47,
   "id": "5fc16418",
   "metadata": {
    "execution": {
     "iopub.execute_input": "2023-12-01T18:12:31.105783Z",
     "iopub.status.busy": "2023-12-01T18:12:31.105030Z",
     "iopub.status.idle": "2023-12-01T18:12:31.110545Z",
     "shell.execute_reply": "2023-12-01T18:12:31.109722Z"
    },
    "papermill": {
     "duration": 0.053537,
     "end_time": "2023-12-01T18:12:31.112866",
     "exception": false,
     "start_time": "2023-12-01T18:12:31.059329",
     "status": "completed"
    },
    "tags": []
   },
   "outputs": [],
   "source": [
    "grid_model = GridSearchCV(estimator=EN_model, param_grid=param_grid,\n",
    "                         scoring = 'neg_mean_squared_error', cv = 5, verbose=0)"
   ]
  },
  {
   "cell_type": "code",
   "execution_count": 48,
   "id": "d502c18d",
   "metadata": {
    "execution": {
     "iopub.execute_input": "2023-12-01T18:12:31.202203Z",
     "iopub.status.busy": "2023-12-01T18:12:31.201693Z",
     "iopub.status.idle": "2023-12-01T18:12:42.335430Z",
     "shell.execute_reply": "2023-12-01T18:12:42.333753Z"
    },
    "papermill": {
     "duration": 11.183866,
     "end_time": "2023-12-01T18:12:42.340041",
     "exception": false,
     "start_time": "2023-12-01T18:12:31.156175",
     "status": "completed"
    },
    "tags": []
   },
   "outputs": [
    {
     "name": "stdout",
     "output_type": "stream",
     "text": [
      "The Numerical Data fit took 11.13s to run\n"
     ]
    }
   ],
   "source": [
    "set1_grid_start = time.time()\n",
    "grid_model.fit(scaled_X_train_num, y_train)\n",
    "set1_grid_end = time.time()\n",
    "print(f'The Numerical Data fit took {set1_grid_end-set1_grid_start:.2f}s to run')"
   ]
  },
  {
   "cell_type": "code",
   "execution_count": 49,
   "id": "9b0fd62a",
   "metadata": {
    "execution": {
     "iopub.execute_input": "2023-12-01T18:12:42.494351Z",
     "iopub.status.busy": "2023-12-01T18:12:42.493901Z",
     "iopub.status.idle": "2023-12-01T18:12:42.504907Z",
     "shell.execute_reply": "2023-12-01T18:12:42.503912Z"
    },
    "papermill": {
     "duration": 0.061062,
     "end_time": "2023-12-01T18:12:42.507748",
     "exception": false,
     "start_time": "2023-12-01T18:12:42.446686",
     "status": "completed"
    },
    "tags": []
   },
   "outputs": [
    {
     "data": {
      "text/html": [
       "<style>#sk-container-id-1 {color: black;background-color: white;}#sk-container-id-1 pre{padding: 0;}#sk-container-id-1 div.sk-toggleable {background-color: white;}#sk-container-id-1 label.sk-toggleable__label {cursor: pointer;display: block;width: 100%;margin-bottom: 0;padding: 0.3em;box-sizing: border-box;text-align: center;}#sk-container-id-1 label.sk-toggleable__label-arrow:before {content: \"▸\";float: left;margin-right: 0.25em;color: #696969;}#sk-container-id-1 label.sk-toggleable__label-arrow:hover:before {color: black;}#sk-container-id-1 div.sk-estimator:hover label.sk-toggleable__label-arrow:before {color: black;}#sk-container-id-1 div.sk-toggleable__content {max-height: 0;max-width: 0;overflow: hidden;text-align: left;background-color: #f0f8ff;}#sk-container-id-1 div.sk-toggleable__content pre {margin: 0.2em;color: black;border-radius: 0.25em;background-color: #f0f8ff;}#sk-container-id-1 input.sk-toggleable__control:checked~div.sk-toggleable__content {max-height: 200px;max-width: 100%;overflow: auto;}#sk-container-id-1 input.sk-toggleable__control:checked~label.sk-toggleable__label-arrow:before {content: \"▾\";}#sk-container-id-1 div.sk-estimator input.sk-toggleable__control:checked~label.sk-toggleable__label {background-color: #d4ebff;}#sk-container-id-1 div.sk-label input.sk-toggleable__control:checked~label.sk-toggleable__label {background-color: #d4ebff;}#sk-container-id-1 input.sk-hidden--visually {border: 0;clip: rect(1px 1px 1px 1px);clip: rect(1px, 1px, 1px, 1px);height: 1px;margin: -1px;overflow: hidden;padding: 0;position: absolute;width: 1px;}#sk-container-id-1 div.sk-estimator {font-family: monospace;background-color: #f0f8ff;border: 1px dotted black;border-radius: 0.25em;box-sizing: border-box;margin-bottom: 0.5em;}#sk-container-id-1 div.sk-estimator:hover {background-color: #d4ebff;}#sk-container-id-1 div.sk-parallel-item::after {content: \"\";width: 100%;border-bottom: 1px solid gray;flex-grow: 1;}#sk-container-id-1 div.sk-label:hover label.sk-toggleable__label {background-color: #d4ebff;}#sk-container-id-1 div.sk-serial::before {content: \"\";position: absolute;border-left: 1px solid gray;box-sizing: border-box;top: 0;bottom: 0;left: 50%;z-index: 0;}#sk-container-id-1 div.sk-serial {display: flex;flex-direction: column;align-items: center;background-color: white;padding-right: 0.2em;padding-left: 0.2em;position: relative;}#sk-container-id-1 div.sk-item {position: relative;z-index: 1;}#sk-container-id-1 div.sk-parallel {display: flex;align-items: stretch;justify-content: center;background-color: white;position: relative;}#sk-container-id-1 div.sk-item::before, #sk-container-id-1 div.sk-parallel-item::before {content: \"\";position: absolute;border-left: 1px solid gray;box-sizing: border-box;top: 0;bottom: 0;left: 50%;z-index: -1;}#sk-container-id-1 div.sk-parallel-item {display: flex;flex-direction: column;z-index: 1;position: relative;background-color: white;}#sk-container-id-1 div.sk-parallel-item:first-child::after {align-self: flex-end;width: 50%;}#sk-container-id-1 div.sk-parallel-item:last-child::after {align-self: flex-start;width: 50%;}#sk-container-id-1 div.sk-parallel-item:only-child::after {width: 0;}#sk-container-id-1 div.sk-dashed-wrapped {border: 1px dashed gray;margin: 0 0.4em 0.5em 0.4em;box-sizing: border-box;padding-bottom: 0.4em;background-color: white;}#sk-container-id-1 div.sk-label label {font-family: monospace;font-weight: bold;display: inline-block;line-height: 1.2em;}#sk-container-id-1 div.sk-label-container {text-align: center;}#sk-container-id-1 div.sk-container {/* jupyter's `normalize.less` sets `[hidden] { display: none; }` but bootstrap.min.css set `[hidden] { display: none !important; }` so we also need the `!important` here to be able to override the default hidden behavior on the sphinx rendered scikit-learn.org. See: https://github.com/scikit-learn/scikit-learn/issues/21755 */display: inline-block !important;position: relative;}#sk-container-id-1 div.sk-text-repr-fallback {display: none;}</style><div id=\"sk-container-id-1\" class=\"sk-top-container\"><div class=\"sk-text-repr-fallback\"><pre>ElasticNet(alpha=200, l1_ratio=1, max_iter=10000)</pre><b>In a Jupyter environment, please rerun this cell to show the HTML representation or trust the notebook. <br />On GitHub, the HTML representation is unable to render, please try loading this page with nbviewer.org.</b></div><div class=\"sk-container\" hidden><div class=\"sk-item\"><div class=\"sk-estimator sk-toggleable\"><input class=\"sk-toggleable__control sk-hidden--visually\" id=\"sk-estimator-id-1\" type=\"checkbox\" checked><label for=\"sk-estimator-id-1\" class=\"sk-toggleable__label sk-toggleable__label-arrow\">ElasticNet</label><div class=\"sk-toggleable__content\"><pre>ElasticNet(alpha=200, l1_ratio=1, max_iter=10000)</pre></div></div></div></div></div>"
      ],
      "text/plain": [
       "ElasticNet(alpha=200, l1_ratio=1, max_iter=10000)"
      ]
     },
     "execution_count": 49,
     "metadata": {},
     "output_type": "execute_result"
    }
   ],
   "source": [
    "grid_model.best_estimator_"
   ]
  },
  {
   "cell_type": "code",
   "execution_count": 50,
   "id": "fb90dbc6",
   "metadata": {
    "execution": {
     "iopub.execute_input": "2023-12-01T18:12:42.600916Z",
     "iopub.status.busy": "2023-12-01T18:12:42.600408Z",
     "iopub.status.idle": "2023-12-01T18:12:42.607067Z",
     "shell.execute_reply": "2023-12-01T18:12:42.605946Z"
    },
    "papermill": {
     "duration": 0.05578,
     "end_time": "2023-12-01T18:12:42.609767",
     "exception": false,
     "start_time": "2023-12-01T18:12:42.553987",
     "status": "completed"
    },
    "tags": []
   },
   "outputs": [],
   "source": [
    "y_pred_num = grid_model.predict(scaled_X_test_num)"
   ]
  },
  {
   "cell_type": "code",
   "execution_count": 51,
   "id": "f37dcb3a",
   "metadata": {
    "execution": {
     "iopub.execute_input": "2023-12-01T18:12:42.701681Z",
     "iopub.status.busy": "2023-12-01T18:12:42.700970Z",
     "iopub.status.idle": "2023-12-01T18:12:42.706083Z",
     "shell.execute_reply": "2023-12-01T18:12:42.705143Z"
    },
    "papermill": {
     "duration": 0.054804,
     "end_time": "2023-12-01T18:12:42.708627",
     "exception": false,
     "start_time": "2023-12-01T18:12:42.653823",
     "status": "completed"
    },
    "tags": []
   },
   "outputs": [],
   "source": [
    "from sklearn.metrics import mean_squared_error"
   ]
  },
  {
   "cell_type": "code",
   "execution_count": 52,
   "id": "b2eb56ae",
   "metadata": {
    "execution": {
     "iopub.execute_input": "2023-12-01T18:12:42.801428Z",
     "iopub.status.busy": "2023-12-01T18:12:42.800889Z",
     "iopub.status.idle": "2023-12-01T18:12:42.809719Z",
     "shell.execute_reply": "2023-12-01T18:12:42.808554Z"
    },
    "papermill": {
     "duration": 0.057988,
     "end_time": "2023-12-01T18:12:42.812519",
     "exception": false,
     "start_time": "2023-12-01T18:12:42.754531",
     "status": "completed"
    },
    "tags": []
   },
   "outputs": [
    {
     "name": "stdout",
     "output_type": "stream",
     "text": [
      "Numerical Data only resulted in a percent error of: 2.28%\n",
      "RMSE of log values = 0.274\n"
     ]
    }
   ],
   "source": [
    "rmse1 = np.sqrt(mean_squared_error(np.log(y_test), np.log(y_pred_num)))\n",
    "print(f\"Numerical Data only resulted in a percent error of: {rmse1 / np.log(y_test).mean() *100:.2f}%\")\n",
    "print(f\"RMSE of log values = {rmse1:.3f}\")"
   ]
  },
  {
   "cell_type": "code",
   "execution_count": 53,
   "id": "f3921ceb",
   "metadata": {
    "execution": {
     "iopub.execute_input": "2023-12-01T18:12:42.905876Z",
     "iopub.status.busy": "2023-12-01T18:12:42.905373Z",
     "iopub.status.idle": "2023-12-01T18:12:43.340440Z",
     "shell.execute_reply": "2023-12-01T18:12:43.339282Z"
    },
    "papermill": {
     "duration": 0.486263,
     "end_time": "2023-12-01T18:12:43.343655",
     "exception": false,
     "start_time": "2023-12-01T18:12:42.857392",
     "status": "completed"
    },
    "tags": []
   },
   "outputs": [
    {
     "data": {
      "text/plain": [
       "<Axes: xlabel='SalePrice'>"
      ]
     },
     "execution_count": 53,
     "metadata": {},
     "output_type": "execute_result"
    },
    {
     "data": {
      "image/png": "[encoded data removed]",
      "text/plain": [
       "<Figure size 600x600 with 1 Axes>"
      ]
     },
     "metadata": {},
     "output_type": "display_data"
    }
   ],
   "source": [
    "plt.figure(figsize=(6,6))\n",
    "sns.regplot(x=np.log(y_test), y=np.log(y_pred_num), fit_reg=True)"
   ]
  },
  {
   "cell_type": "markdown",
   "id": "af6afbb1",
   "metadata": {
    "papermill": {
     "duration": 0.044687,
     "end_time": "2023-12-01T18:12:43.434885",
     "exception": false,
     "start_time": "2023-12-01T18:12:43.390198",
     "status": "completed"
    },
    "tags": []
   },
   "source": [
    "### Second test: Elastic Net with the numerical and dummy feature columns"
   ]
  },
  {
   "cell_type": "code",
   "execution_count": 54,
   "id": "23eea82b",
   "metadata": {
    "execution": {
     "iopub.execute_input": "2023-12-01T18:12:43.529177Z",
     "iopub.status.busy": "2023-12-01T18:12:43.528404Z",
     "iopub.status.idle": "2023-12-01T18:12:43.562504Z",
     "shell.execute_reply": "2023-12-01T18:12:43.561420Z"
    },
    "papermill": {
     "duration": 0.08576,
     "end_time": "2023-12-01T18:12:43.565419",
     "exception": false,
     "start_time": "2023-12-01T18:12:43.479659",
     "status": "completed"
    },
    "tags": []
   },
   "outputs": [],
   "source": [
    "scaler.fit(X_train)\n",
    "scaled_X_train = scaler.transform(X_train)\n",
    "scaled_X_test = scaler.transform(X_test)"
   ]
  },
  {
   "cell_type": "code",
   "execution_count": 55,
   "id": "2aba4f94",
   "metadata": {
    "execution": {
     "iopub.execute_input": "2023-12-01T18:12:43.660044Z",
     "iopub.status.busy": "2023-12-01T18:12:43.659284Z",
     "iopub.status.idle": "2023-12-01T18:12:43.665435Z",
     "shell.execute_reply": "2023-12-01T18:12:43.664577Z"
    },
    "papermill": {
     "duration": 0.056117,
     "end_time": "2023-12-01T18:12:43.667806",
     "exception": false,
     "start_time": "2023-12-01T18:12:43.611689",
     "status": "completed"
    },
    "tags": []
   },
   "outputs": [],
   "source": [
    "EN_model = ElasticNet(max_iter=10000)\n",
    "param_grid = {'alpha':[0.1,1,5,10,50,100,200], \n",
    "              'l1_ratio':[0.1,0.5,0.7,0.95,0.99,1]}"
   ]
  },
  {
   "cell_type": "code",
   "execution_count": 56,
   "id": "7bd9caa2",
   "metadata": {
    "execution": {
     "iopub.execute_input": "2023-12-01T18:12:43.761994Z",
     "iopub.status.busy": "2023-12-01T18:12:43.761227Z",
     "iopub.status.idle": "2023-12-01T18:12:43.767524Z",
     "shell.execute_reply": "2023-12-01T18:12:43.766005Z"
    },
    "papermill": {
     "duration": 0.056753,
     "end_time": "2023-12-01T18:12:43.770588",
     "exception": false,
     "start_time": "2023-12-01T18:12:43.713835",
     "status": "completed"
    },
    "tags": []
   },
   "outputs": [],
   "source": [
    "grid_model = GridSearchCV(estimator=EN_model, param_grid=param_grid,\n",
    "                         scoring = 'neg_mean_squared_error', cv = 5, verbose=0)"
   ]
  },
  {
   "cell_type": "code",
   "execution_count": 57,
   "id": "a385e6ec",
   "metadata": {
    "execution": {
     "iopub.execute_input": "2023-12-01T18:12:43.866860Z",
     "iopub.status.busy": "2023-12-01T18:12:43.865635Z",
     "iopub.status.idle": "2023-12-01T18:14:18.005481Z",
     "shell.execute_reply": "2023-12-01T18:14:17.994853Z"
    },
    "papermill": {
     "duration": 94.289451,
     "end_time": "2023-12-01T18:14:18.107441",
     "exception": false,
     "start_time": "2023-12-01T18:12:43.817990",
     "status": "completed"
    },
    "tags": []
   },
   "outputs": [
    {
     "name": "stdout",
     "output_type": "stream",
     "text": [
      "The Dummy and Numerical Data fit took 94.12s to run\n"
     ]
    }
   ],
   "source": [
    "set2_grid_start = time.time()\n",
    "grid_model.fit(scaled_X_train, y_train)\n",
    "set2_grid_end = time.time()\n",
    "print(f'The Dummy and Numerical Data fit took {set2_grid_end-set2_grid_start:.2f}s to run')"
   ]
  },
  {
   "cell_type": "code",
   "execution_count": 58,
   "id": "8503a23e",
   "metadata": {
    "execution": {
     "iopub.execute_input": "2023-12-01T18:14:18.200573Z",
     "iopub.status.busy": "2023-12-01T18:14:18.200082Z",
     "iopub.status.idle": "2023-12-01T18:14:18.208473Z",
     "shell.execute_reply": "2023-12-01T18:14:18.207140Z"
    },
    "papermill": {
     "duration": 0.057526,
     "end_time": "2023-12-01T18:14:18.211275",
     "exception": false,
     "start_time": "2023-12-01T18:14:18.153749",
     "status": "completed"
    },
    "tags": []
   },
   "outputs": [
    {
     "data": {
      "text/html": [
       "<style>#sk-container-id-2 {color: black;background-color: white;}#sk-container-id-2 pre{padding: 0;}#sk-container-id-2 div.sk-toggleable {background-color: white;}#sk-container-id-2 label.sk-toggleable__label {cursor: pointer;display: block;width: 100%;margin-bottom: 0;padding: 0.3em;box-sizing: border-box;text-align: center;}#sk-container-id-2 label.sk-toggleable__label-arrow:before {content: \"▸\";float: left;margin-right: 0.25em;color: #696969;}#sk-container-id-2 label.sk-toggleable__label-arrow:hover:before {color: black;}#sk-container-id-2 div.sk-estimator:hover label.sk-toggleable__label-arrow:before {color: black;}#sk-container-id-2 div.sk-toggleable__content {max-height: 0;max-width: 0;overflow: hidden;text-align: left;background-color: #f0f8ff;}#sk-container-id-2 div.sk-toggleable__content pre {margin: 0.2em;color: black;border-radius: 0.25em;background-color: #f0f8ff;}#sk-container-id-2 input.sk-toggleable__control:checked~div.sk-toggleable__content {max-height: 200px;max-width: 100%;overflow: auto;}#sk-container-id-2 input.sk-toggleable__control:checked~label.sk-toggleable__label-arrow:before {content: \"▾\";}#sk-container-id-2 div.sk-estimator input.sk-toggleable__control:checked~label.sk-toggleable__label {background-color: #d4ebff;}#sk-container-id-2 div.sk-label input.sk-toggleable__control:checked~label.sk-toggleable__label {background-color: #d4ebff;}#sk-container-id-2 input.sk-hidden--visually {border: 0;clip: rect(1px 1px 1px 1px);clip: rect(1px, 1px, 1px, 1px);height: 1px;margin: -1px;overflow: hidden;padding: 0;position: absolute;width: 1px;}#sk-container-id-2 div.sk-estimator {font-family: monospace;background-color: #f0f8ff;border: 1px dotted black;border-radius: 0.25em;box-sizing: border-box;margin-bottom: 0.5em;}#sk-container-id-2 div.sk-estimator:hover {background-color: #d4ebff;}#sk-container-id-2 div.sk-parallel-item::after {content: \"\";width: 100%;border-bottom: 1px solid gray;flex-grow: 1;}#sk-container-id-2 div.sk-label:hover label.sk-toggleable__label {background-color: #d4ebff;}#sk-container-id-2 div.sk-serial::before {content: \"\";position: absolute;border-left: 1px solid gray;box-sizing: border-box;top: 0;bottom: 0;left: 50%;z-index: 0;}#sk-container-id-2 div.sk-serial {display: flex;flex-direction: column;align-items: center;background-color: white;padding-right: 0.2em;padding-left: 0.2em;position: relative;}#sk-container-id-2 div.sk-item {position: relative;z-index: 1;}#sk-container-id-2 div.sk-parallel {display: flex;align-items: stretch;justify-content: center;background-color: white;position: relative;}#sk-container-id-2 div.sk-item::before, #sk-container-id-2 div.sk-parallel-item::before {content: \"\";position: absolute;border-left: 1px solid gray;box-sizing: border-box;top: 0;bottom: 0;left: 50%;z-index: -1;}#sk-container-id-2 div.sk-parallel-item {display: flex;flex-direction: column;z-index: 1;position: relative;background-color: white;}#sk-container-id-2 div.sk-parallel-item:first-child::after {align-self: flex-end;width: 50%;}#sk-container-id-2 div.sk-parallel-item:last-child::after {align-self: flex-start;width: 50%;}#sk-container-id-2 div.sk-parallel-item:only-child::after {width: 0;}#sk-container-id-2 div.sk-dashed-wrapped {border: 1px dashed gray;margin: 0 0.4em 0.5em 0.4em;box-sizing: border-box;padding-bottom: 0.4em;background-color: white;}#sk-container-id-2 div.sk-label label {font-family: monospace;font-weight: bold;display: inline-block;line-height: 1.2em;}#sk-container-id-2 div.sk-label-container {text-align: center;}#sk-container-id-2 div.sk-container {/* jupyter's `normalize.less` sets `[hidden] { display: none; }` but bootstrap.min.css set `[hidden] { display: none !important; }` so we also need the `!important` here to be able to override the default hidden behavior on the sphinx rendered scikit-learn.org. See: https://github.com/scikit-learn/scikit-learn/issues/21755 */display: inline-block !important;position: relative;}#sk-container-id-2 div.sk-text-repr-fallback {display: none;}</style><div id=\"sk-container-id-2\" class=\"sk-top-container\"><div class=\"sk-text-repr-fallback\"><pre>ElasticNet(alpha=200, l1_ratio=1, max_iter=10000)</pre><b>In a Jupyter environment, please rerun this cell to show the HTML representation or trust the notebook. <br />On GitHub, the HTML representation is unable to render, please try loading this page with nbviewer.org.</b></div><div class=\"sk-container\" hidden><div class=\"sk-item\"><div class=\"sk-estimator sk-toggleable\"><input class=\"sk-toggleable__control sk-hidden--visually\" id=\"sk-estimator-id-2\" type=\"checkbox\" checked><label for=\"sk-estimator-id-2\" class=\"sk-toggleable__label sk-toggleable__label-arrow\">ElasticNet</label><div class=\"sk-toggleable__content\"><pre>ElasticNet(alpha=200, l1_ratio=1, max_iter=10000)</pre></div></div></div></div></div>"
      ],
      "text/plain": [
       "ElasticNet(alpha=200, l1_ratio=1, max_iter=10000)"
      ]
     },
     "execution_count": 58,
     "metadata": {},
     "output_type": "execute_result"
    }
   ],
   "source": [
    "grid_model.best_estimator_"
   ]
  },
  {
   "cell_type": "code",
   "execution_count": 59,
   "id": "50e4be3e",
   "metadata": {
    "execution": {
     "iopub.execute_input": "2023-12-01T18:14:18.303727Z",
     "iopub.status.busy": "2023-12-01T18:14:18.302854Z",
     "iopub.status.idle": "2023-12-01T18:14:18.309915Z",
     "shell.execute_reply": "2023-12-01T18:14:18.308140Z"
    },
    "papermill": {
     "duration": 0.059265,
     "end_time": "2023-12-01T18:14:18.315487",
     "exception": false,
     "start_time": "2023-12-01T18:14:18.256222",
     "status": "completed"
    },
    "tags": []
   },
   "outputs": [],
   "source": [
    "y_pred = grid_model.predict(scaled_X_test)"
   ]
  },
  {
   "cell_type": "code",
   "execution_count": 60,
   "id": "a3394d1a",
   "metadata": {
    "execution": {
     "iopub.execute_input": "2023-12-01T18:14:18.467096Z",
     "iopub.status.busy": "2023-12-01T18:14:18.466558Z",
     "iopub.status.idle": "2023-12-01T18:14:18.477544Z",
     "shell.execute_reply": "2023-12-01T18:14:18.475853Z"
    },
    "papermill": {
     "duration": 0.072392,
     "end_time": "2023-12-01T18:14:18.480287",
     "exception": false,
     "start_time": "2023-12-01T18:14:18.407895",
     "status": "completed"
    },
    "tags": []
   },
   "outputs": [
    {
     "name": "stdout",
     "output_type": "stream",
     "text": [
      "All Data (using dummy variables) resulted in a percent error of: 1.28%\n",
      "RMSE of log values = 0.154\n"
     ]
    }
   ],
   "source": [
    "rmse2 = np.sqrt(mean_squared_error(np.log(y_test), np.log(y_pred)))\n",
    "print(f\"All Data (using dummy variables) resulted in a percent error of: {rmse2 / np.log(y_test).mean() *100:.2f}%\")\n",
    "print(f\"RMSE of log values = {rmse2:.3f}\")"
   ]
  },
  {
   "cell_type": "code",
   "execution_count": 61,
   "id": "a61f5d45",
   "metadata": {
    "execution": {
     "iopub.execute_input": "2023-12-01T18:14:18.596876Z",
     "iopub.status.busy": "2023-12-01T18:14:18.596027Z",
     "iopub.status.idle": "2023-12-01T18:14:19.025230Z",
     "shell.execute_reply": "2023-12-01T18:14:19.024207Z"
    },
    "papermill": {
     "duration": 0.496081,
     "end_time": "2023-12-01T18:14:19.027720",
     "exception": false,
     "start_time": "2023-12-01T18:14:18.531639",
     "status": "completed"
    },
    "tags": []
   },
   "outputs": [
    {
     "data": {
      "text/plain": [
       "<Axes: xlabel='SalePrice'>"
      ]
     },
     "execution_count": 61,
     "metadata": {},
     "output_type": "execute_result"
    },
    {
     "data": {
      "image/png": "[encoded data removed]",
      "text/plain": [
       "<Figure size 600x600 with 1 Axes>"
      ]
     },
     "metadata": {},
     "output_type": "display_data"
    }
   ],
   "source": [
    "plt.figure(figsize=(6,6))\n",
    "sns.regplot(x=np.log(y_test), y=np.log(y_pred), fit_reg=True)"
   ]
  },
  {
   "cell_type": "code",
   "execution_count": 62,
   "id": "2eb49ce1",
   "metadata": {
    "execution": {
     "iopub.execute_input": "2023-12-01T18:14:19.128936Z",
     "iopub.status.busy": "2023-12-01T18:14:19.128237Z",
     "iopub.status.idle": "2023-12-01T18:14:19.135169Z",
     "shell.execute_reply": "2023-12-01T18:14:19.134150Z"
    },
    "papermill": {
     "duration": 0.059789,
     "end_time": "2023-12-01T18:14:19.137595",
     "exception": false,
     "start_time": "2023-12-01T18:14:19.077806",
     "status": "completed"
    },
    "tags": []
   },
   "outputs": [
    {
     "name": "stdout",
     "output_type": "stream",
     "text": [
      "------------------------------------------------------------\n",
      "Numerical Data only resulted in a percent error of: 2.28%\n",
      "All Data (using dummy variables) resulted in a percent error of: 1.28%\n"
     ]
    }
   ],
   "source": [
    "print(\"--\"*30)\n",
    "print(f\"Numerical Data only resulted in a percent error of: {rmse1 / (np.log(y_test)).mean() *100:.2f}%\")\n",
    "print(f\"All Data (using dummy variables) resulted in a percent error of: {rmse2 / (np.log(y_test)).mean() *100:.2f}%\")"
   ]
  },
  {
   "cell_type": "markdown",
   "id": "0d7686ed",
   "metadata": {
    "papermill": {
     "duration": 0.046281,
     "end_time": "2023-12-01T18:14:19.230567",
     "exception": false,
     "start_time": "2023-12-01T18:14:19.184286",
     "status": "completed"
    },
    "tags": []
   },
   "source": [
    "### Third test: Random forest with the numerical and dummy feature columns"
   ]
  },
  {
   "cell_type": "code",
   "execution_count": 63,
   "id": "e05fc2ac",
   "metadata": {
    "execution": {
     "iopub.execute_input": "2023-12-01T18:14:19.326818Z",
     "iopub.status.busy": "2023-12-01T18:14:19.326139Z",
     "iopub.status.idle": "2023-12-01T18:14:19.497007Z",
     "shell.execute_reply": "2023-12-01T18:14:19.495735Z"
    },
    "papermill": {
     "duration": 0.222196,
     "end_time": "2023-12-01T18:14:19.499986",
     "exception": false,
     "start_time": "2023-12-01T18:14:19.277790",
     "status": "completed"
    },
    "tags": []
   },
   "outputs": [],
   "source": [
    "from sklearn.ensemble import RandomForestRegressor"
   ]
  },
  {
   "cell_type": "code",
   "execution_count": 64,
   "id": "a6b3fd3b",
   "metadata": {
    "execution": {
     "iopub.execute_input": "2023-12-01T18:14:19.595163Z",
     "iopub.status.busy": "2023-12-01T18:14:19.594662Z",
     "iopub.status.idle": "2023-12-01T18:14:19.600768Z",
     "shell.execute_reply": "2023-12-01T18:14:19.599505Z"
    },
    "papermill": {
     "duration": 0.057089,
     "end_time": "2023-12-01T18:14:19.602949",
     "exception": false,
     "start_time": "2023-12-01T18:14:19.545860",
     "status": "completed"
    },
    "tags": []
   },
   "outputs": [],
   "source": [
    "rfr = RandomForestRegressor(n_estimators=10)"
   ]
  },
  {
   "cell_type": "code",
   "execution_count": 65,
   "id": "c91a8269",
   "metadata": {
    "execution": {
     "iopub.execute_input": "2023-12-01T18:14:19.697118Z",
     "iopub.status.busy": "2023-12-01T18:14:19.696021Z",
     "iopub.status.idle": "2023-12-01T18:14:20.040048Z",
     "shell.execute_reply": "2023-12-01T18:14:20.038745Z"
    },
    "papermill": {
     "duration": 0.394774,
     "end_time": "2023-12-01T18:14:20.043197",
     "exception": false,
     "start_time": "2023-12-01T18:14:19.648423",
     "status": "completed"
    },
    "tags": []
   },
   "outputs": [
    {
     "data": {
      "text/html": [
       "<style>#sk-container-id-3 {color: black;background-color: white;}#sk-container-id-3 pre{padding: 0;}#sk-container-id-3 div.sk-toggleable {background-color: white;}#sk-container-id-3 label.sk-toggleable__label {cursor: pointer;display: block;width: 100%;margin-bottom: 0;padding: 0.3em;box-sizing: border-box;text-align: center;}#sk-container-id-3 label.sk-toggleable__label-arrow:before {content: \"▸\";float: left;margin-right: 0.25em;color: #696969;}#sk-container-id-3 label.sk-toggleable__label-arrow:hover:before {color: black;}#sk-container-id-3 div.sk-estimator:hover label.sk-toggleable__label-arrow:before {color: black;}#sk-container-id-3 div.sk-toggleable__content {max-height: 0;max-width: 0;overflow: hidden;text-align: left;background-color: #f0f8ff;}#sk-container-id-3 div.sk-toggleable__content pre {margin: 0.2em;color: black;border-radius: 0.25em;background-color: #f0f8ff;}#sk-container-id-3 input.sk-toggleable__control:checked~div.sk-toggleable__content {max-height: 200px;max-width: 100%;overflow: auto;}#sk-container-id-3 input.sk-toggleable__control:checked~label.sk-toggleable__label-arrow:before {content: \"▾\";}#sk-container-id-3 div.sk-estimator input.sk-toggleable__control:checked~label.sk-toggleable__label {background-color: #d4ebff;}#sk-container-id-3 div.sk-label input.sk-toggleable__control:checked~label.sk-toggleable__label {background-color: #d4ebff;}#sk-container-id-3 input.sk-hidden--visually {border: 0;clip: rect(1px 1px 1px 1px);clip: rect(1px, 1px, 1px, 1px);height: 1px;margin: -1px;overflow: hidden;padding: 0;position: absolute;width: 1px;}#sk-container-id-3 div.sk-estimator {font-family: monospace;background-color: #f0f8ff;border: 1px dotted black;border-radius: 0.25em;box-sizing: border-box;margin-bottom: 0.5em;}#sk-container-id-3 div.sk-estimator:hover {background-color: #d4ebff;}#sk-container-id-3 div.sk-parallel-item::after {content: \"\";width: 100%;border-bottom: 1px solid gray;flex-grow: 1;}#sk-container-id-3 div.sk-label:hover label.sk-toggleable__label {background-color: #d4ebff;}#sk-container-id-3 div.sk-serial::before {content: \"\";position: absolute;border-left: 1px solid gray;box-sizing: border-box;top: 0;bottom: 0;left: 50%;z-index: 0;}#sk-container-id-3 div.sk-serial {display: flex;flex-direction: column;align-items: center;background-color: white;padding-right: 0.2em;padding-left: 0.2em;position: relative;}#sk-container-id-3 div.sk-item {position: relative;z-index: 1;}#sk-container-id-3 div.sk-parallel {display: flex;align-items: stretch;justify-content: center;background-color: white;position: relative;}#sk-container-id-3 div.sk-item::before, #sk-container-id-3 div.sk-parallel-item::before {content: \"\";position: absolute;border-left: 1px solid gray;box-sizing: border-box;top: 0;bottom: 0;left: 50%;z-index: -1;}#sk-container-id-3 div.sk-parallel-item {display: flex;flex-direction: column;z-index: 1;position: relative;background-color: white;}#sk-container-id-3 div.sk-parallel-item:first-child::after {align-self: flex-end;width: 50%;}#sk-container-id-3 div.sk-parallel-item:last-child::after {align-self: flex-start;width: 50%;}#sk-container-id-3 div.sk-parallel-item:only-child::after {width: 0;}#sk-container-id-3 div.sk-dashed-wrapped {border: 1px dashed gray;margin: 0 0.4em 0.5em 0.4em;box-sizing: border-box;padding-bottom: 0.4em;background-color: white;}#sk-container-id-3 div.sk-label label {font-family: monospace;font-weight: bold;display: inline-block;line-height: 1.2em;}#sk-container-id-3 div.sk-label-container {text-align: center;}#sk-container-id-3 div.sk-container {/* jupyter's `normalize.less` sets `[hidden] { display: none; }` but bootstrap.min.css set `[hidden] { display: none !important; }` so we also need the `!important` here to be able to override the default hidden behavior on the sphinx rendered scikit-learn.org. See: https://github.com/scikit-learn/scikit-learn/issues/21755 */display: inline-block !important;position: relative;}#sk-container-id-3 div.sk-text-repr-fallback {display: none;}</style><div id=\"sk-container-id-3\" class=\"sk-top-container\"><div class=\"sk-text-repr-fallback\"><pre>RandomForestRegressor(n_estimators=10)</pre><b>In a Jupyter environment, please rerun this cell to show the HTML representation or trust the notebook. <br />On GitHub, the HTML representation is unable to render, please try loading this page with nbviewer.org.</b></div><div class=\"sk-container\" hidden><div class=\"sk-item\"><div class=\"sk-estimator sk-toggleable\"><input class=\"sk-toggleable__control sk-hidden--visually\" id=\"sk-estimator-id-3\" type=\"checkbox\" checked><label for=\"sk-estimator-id-3\" class=\"sk-toggleable__label sk-toggleable__label-arrow\">RandomForestRegressor</label><div class=\"sk-toggleable__content\"><pre>RandomForestRegressor(n_estimators=10)</pre></div></div></div></div></div>"
      ],
      "text/plain": [
       "RandomForestRegressor(n_estimators=10)"
      ]
     },
     "execution_count": 65,
     "metadata": {},
     "output_type": "execute_result"
    }
   ],
   "source": [
    "rfr.fit(X_train, y_train)"
   ]
  },
  {
   "cell_type": "code",
   "execution_count": 66,
   "id": "0268fd70",
   "metadata": {
    "execution": {
     "iopub.execute_input": "2023-12-01T18:14:20.142218Z",
     "iopub.status.busy": "2023-12-01T18:14:20.141719Z",
     "iopub.status.idle": "2023-12-01T18:14:20.156958Z",
     "shell.execute_reply": "2023-12-01T18:14:20.155732Z"
    },
    "papermill": {
     "duration": 0.067985,
     "end_time": "2023-12-01T18:14:20.159608",
     "exception": false,
     "start_time": "2023-12-01T18:14:20.091623",
     "status": "completed"
    },
    "tags": []
   },
   "outputs": [],
   "source": [
    "y_pred_rfr = rfr.predict(X_test)"
   ]
  },
  {
   "cell_type": "code",
   "execution_count": 67,
   "id": "a7b46d79",
   "metadata": {
    "execution": {
     "iopub.execute_input": "2023-12-01T18:14:20.256403Z",
     "iopub.status.busy": "2023-12-01T18:14:20.255913Z",
     "iopub.status.idle": "2023-12-01T18:14:20.266333Z",
     "shell.execute_reply": "2023-12-01T18:14:20.264816Z"
    },
    "papermill": {
     "duration": 0.061915,
     "end_time": "2023-12-01T18:14:20.269252",
     "exception": false,
     "start_time": "2023-12-01T18:14:20.207337",
     "status": "completed"
    },
    "tags": []
   },
   "outputs": [
    {
     "name": "stdout",
     "output_type": "stream",
     "text": [
      "All Data (using dummy variables) resulted in a percent error of: 1.20%\n",
      "RMSE of log values = 0.144\n"
     ]
    }
   ],
   "source": [
    "rmse3 = np.sqrt(mean_squared_error(np.log(y_test), np.log(y_pred_rfr)))\n",
    "print(f\"All Data (using dummy variables) resulted in a percent error of: {rmse3 / np.log(y_test).mean() *100:.2f}%\")\n",
    "print(f\"RMSE of log values = {rmse3:.3f}\")"
   ]
  },
  {
   "cell_type": "markdown",
   "id": "334d50ce",
   "metadata": {
    "papermill": {
     "duration": 0.04674,
     "end_time": "2023-12-01T18:14:20.363659",
     "exception": false,
     "start_time": "2023-12-01T18:14:20.316919",
     "status": "completed"
    },
    "tags": []
   },
   "source": [
    "# Re-train with best version on all the data\n",
    "**Train the model with all of the training data to test with the separate test set.**"
   ]
  },
  {
   "cell_type": "code",
   "execution_count": 68,
   "id": "04f7bb71",
   "metadata": {
    "execution": {
     "iopub.execute_input": "2023-12-01T18:14:20.461125Z",
     "iopub.status.busy": "2023-12-01T18:14:20.460628Z",
     "iopub.status.idle": "2023-12-01T18:14:20.466135Z",
     "shell.execute_reply": "2023-12-01T18:14:20.464666Z"
    },
    "papermill": {
     "duration": 0.057941,
     "end_time": "2023-12-01T18:14:20.468680",
     "exception": false,
     "start_time": "2023-12-01T18:14:20.410739",
     "status": "completed"
    },
    "tags": []
   },
   "outputs": [],
   "source": [
    "# Use the param grid of best setup from setp before\n",
    "#EN_model = ElasticNet(max_iter=10000)\n",
    "#param_grid = {'alpha':[200], \n",
    "#              'l1_ratio':[1]}\n",
    "#grid_model = GridSearchCV(estimator=EN_model, param_grid=param_grid,\n",
    "#                         scoring = 'neg_mean_squared_error', cv = 5, verbose=0)"
   ]
  },
  {
   "cell_type": "code",
   "execution_count": 69,
   "id": "a1d76824",
   "metadata": {
    "execution": {
     "iopub.execute_input": "2023-12-01T18:14:20.565359Z",
     "iopub.status.busy": "2023-12-01T18:14:20.564899Z",
     "iopub.status.idle": "2023-12-01T18:14:20.570166Z",
     "shell.execute_reply": "2023-12-01T18:14:20.568659Z"
    },
    "papermill": {
     "duration": 0.057078,
     "end_time": "2023-12-01T18:14:20.573043",
     "exception": false,
     "start_time": "2023-12-01T18:14:20.515965",
     "status": "completed"
    },
    "tags": []
   },
   "outputs": [],
   "source": [
    "#scaled_X_all = scaler.transform(X)"
   ]
  },
  {
   "cell_type": "code",
   "execution_count": 70,
   "id": "4c7e88f6",
   "metadata": {
    "execution": {
     "iopub.execute_input": "2023-12-01T18:14:20.671750Z",
     "iopub.status.busy": "2023-12-01T18:14:20.670933Z",
     "iopub.status.idle": "2023-12-01T18:14:20.675305Z",
     "shell.execute_reply": "2023-12-01T18:14:20.674424Z"
    },
    "papermill": {
     "duration": 0.055228,
     "end_time": "2023-12-01T18:14:20.677453",
     "exception": false,
     "start_time": "2023-12-01T18:14:20.622225",
     "status": "completed"
    },
    "tags": []
   },
   "outputs": [],
   "source": [
    "#final_grid_start = time.time()\n",
    "#grid_model.fit(scaled_X_all, y)\n",
    "#final_grid_end = time.time()\n",
    "#print(f'Final Data set fit took {final_grid_end-final_grid_start:.2f}s to run')"
   ]
  },
  {
   "cell_type": "code",
   "execution_count": 71,
   "id": "dfd76abb",
   "metadata": {
    "execution": {
     "iopub.execute_input": "2023-12-01T18:14:20.774407Z",
     "iopub.status.busy": "2023-12-01T18:14:20.773530Z",
     "iopub.status.idle": "2023-12-01T18:14:20.778412Z",
     "shell.execute_reply": "2023-12-01T18:14:20.777469Z"
    },
    "papermill": {
     "duration": 0.056571,
     "end_time": "2023-12-01T18:14:20.780626",
     "exception": false,
     "start_time": "2023-12-01T18:14:20.724055",
     "status": "completed"
    },
    "tags": []
   },
   "outputs": [],
   "source": [
    "#df_dummy_test.head()"
   ]
  },
  {
   "cell_type": "code",
   "execution_count": 72,
   "id": "0194bdb5",
   "metadata": {
    "execution": {
     "iopub.execute_input": "2023-12-01T18:14:20.881303Z",
     "iopub.status.busy": "2023-12-01T18:14:20.880823Z",
     "iopub.status.idle": "2023-12-01T18:14:20.885357Z",
     "shell.execute_reply": "2023-12-01T18:14:20.884269Z"
    },
    "papermill": {
     "duration": 0.056613,
     "end_time": "2023-12-01T18:14:20.887640",
     "exception": false,
     "start_time": "2023-12-01T18:14:20.831027",
     "status": "completed"
    },
    "tags": []
   },
   "outputs": [],
   "source": [
    "#y_pred_final = grid_model.predict(df_dummy_test)\n",
    "#y_pred_final"
   ]
  },
  {
   "cell_type": "markdown",
   "id": "f3759834",
   "metadata": {
    "papermill": {
     "duration": 0.048745,
     "end_time": "2023-12-01T18:14:20.984988",
     "exception": false,
     "start_time": "2023-12-01T18:14:20.936243",
     "status": "completed"
    },
    "tags": []
   },
   "source": [
    "## Random forest Regression"
   ]
  },
  {
   "cell_type": "code",
   "execution_count": 73,
   "id": "9b260804",
   "metadata": {
    "execution": {
     "iopub.execute_input": "2023-12-01T18:14:21.083600Z",
     "iopub.status.busy": "2023-12-01T18:14:21.083173Z",
     "iopub.status.idle": "2023-12-01T18:14:21.463424Z",
     "shell.execute_reply": "2023-12-01T18:14:21.462285Z"
    },
    "papermill": {
     "duration": 0.433672,
     "end_time": "2023-12-01T18:14:21.466232",
     "exception": false,
     "start_time": "2023-12-01T18:14:21.032560",
     "status": "completed"
    },
    "tags": []
   },
   "outputs": [
    {
     "name": "stdout",
     "output_type": "stream",
     "text": [
      "Final Data set fit took 0.37s to run\n"
     ]
    }
   ],
   "source": [
    "rfr_final_grid_start = time.time()\n",
    "rfr.fit(X, y)\n",
    "rfr_final_grid_end = time.time()\n",
    "print(f'Final Data set fit took {rfr_final_grid_end-rfr_final_grid_start:.2f}s to run')"
   ]
  },
  {
   "cell_type": "code",
   "execution_count": 74,
   "id": "c52dc501",
   "metadata": {
    "execution": {
     "iopub.execute_input": "2023-12-01T18:14:21.565595Z",
     "iopub.status.busy": "2023-12-01T18:14:21.565165Z",
     "iopub.status.idle": "2023-12-01T18:14:21.586925Z",
     "shell.execute_reply": "2023-12-01T18:14:21.585389Z"
    },
    "papermill": {
     "duration": 0.075451,
     "end_time": "2023-12-01T18:14:21.589953",
     "exception": false,
     "start_time": "2023-12-01T18:14:21.514502",
     "status": "completed"
    },
    "tags": []
   },
   "outputs": [
    {
     "data": {
      "text/plain": [
       "array([119150. , 155375. , 181490. , ..., 153131.2, 108060. , 215220. ])"
      ]
     },
     "execution_count": 74,
     "metadata": {},
     "output_type": "execute_result"
    }
   ],
   "source": [
    "y_pred_final = rfr.predict(df_dummy_test)\n",
    "y_pred_final"
   ]
  },
  {
   "cell_type": "markdown",
   "id": "c5cc7dda",
   "metadata": {
    "papermill": {
     "duration": 0.046754,
     "end_time": "2023-12-01T18:14:21.684331",
     "exception": false,
     "start_time": "2023-12-01T18:14:21.637577",
     "status": "completed"
    },
    "tags": []
   },
   "source": [
    "# Create the output file fo the final predictions"
   ]
  },
  {
   "cell_type": "code",
   "execution_count": 75,
   "id": "ddc8415a",
   "metadata": {
    "execution": {
     "iopub.execute_input": "2023-12-01T18:14:21.778931Z",
     "iopub.status.busy": "2023-12-01T18:14:21.778470Z",
     "iopub.status.idle": "2023-12-01T18:14:21.787356Z",
     "shell.execute_reply": "2023-12-01T18:14:21.786198Z"
    },
    "papermill": {
     "duration": 0.058778,
     "end_time": "2023-12-01T18:14:21.789743",
     "exception": false,
     "start_time": "2023-12-01T18:14:21.730965",
     "status": "completed"
    },
    "tags": []
   },
   "outputs": [
    {
     "data": {
      "text/plain": [
       "array([119150. , 155375. , 181490. , ..., 153131.2, 108060. , 215220. ])"
      ]
     },
     "execution_count": 75,
     "metadata": {},
     "output_type": "execute_result"
    }
   ],
   "source": [
    "ids = df_dummy_test['Id']\n",
    "y_pred_final"
   ]
  },
  {
   "cell_type": "code",
   "execution_count": 76,
   "id": "9001d2e3",
   "metadata": {
    "execution": {
     "iopub.execute_input": "2023-12-01T18:14:21.890358Z",
     "iopub.status.busy": "2023-12-01T18:14:21.889570Z",
     "iopub.status.idle": "2023-12-01T18:14:21.895802Z",
     "shell.execute_reply": "2023-12-01T18:14:21.894833Z"
    },
    "papermill": {
     "duration": 0.059993,
     "end_time": "2023-12-01T18:14:21.898371",
     "exception": false,
     "start_time": "2023-12-01T18:14:21.838378",
     "status": "completed"
    },
    "tags": []
   },
   "outputs": [],
   "source": [
    "output_df = pd.DataFrame({'Id': ids,\n",
    "                          'SalePrice': y_pred_final.squeeze()})"
   ]
  },
  {
   "cell_type": "markdown",
   "id": "1f0a86cb",
   "metadata": {
    "papermill": {
     "duration": 0.047179,
     "end_time": "2023-12-01T18:14:21.993662",
     "exception": false,
     "start_time": "2023-12-01T18:14:21.946483",
     "status": "completed"
    },
    "tags": []
   },
   "source": [
    "Double check the output dataframe"
   ]
  },
  {
   "cell_type": "code",
   "execution_count": 77,
   "id": "b5e022db",
   "metadata": {
    "execution": {
     "iopub.execute_input": "2023-12-01T18:14:22.125525Z",
     "iopub.status.busy": "2023-12-01T18:14:22.124652Z",
     "iopub.status.idle": "2023-12-01T18:14:22.140021Z",
     "shell.execute_reply": "2023-12-01T18:14:22.139161Z"
    },
    "papermill": {
     "duration": 0.087012,
     "end_time": "2023-12-01T18:14:22.142825",
     "exception": false,
     "start_time": "2023-12-01T18:14:22.055813",
     "status": "completed"
    },
    "tags": []
   },
   "outputs": [
    {
     "data": {
      "text/html": [
       "<div>\n",
       "<style scoped>\n",
       "    .dataframe tbody tr th:only-of-type {\n",
       "        vertical-align: middle;\n",
       "    }\n",
       "\n",
       "    .dataframe tbody tr th {\n",
       "        vertical-align: top;\n",
       "    }\n",
       "\n",
       "    .dataframe thead th {\n",
       "        text-align: right;\n",
       "    }\n",
       "</style>\n",
       "<table border=\"1\" class=\"dataframe\">\n",
       "  <thead>\n",
       "    <tr style=\"text-align: right;\">\n",
       "      <th></th>\n",
       "      <th>Id</th>\n",
       "      <th>SalePrice</th>\n",
       "    </tr>\n",
       "  </thead>\n",
       "  <tbody>\n",
       "    <tr>\n",
       "      <th>1460</th>\n",
       "      <td>1461</td>\n",
       "      <td>119150.0</td>\n",
       "    </tr>\n",
       "    <tr>\n",
       "      <th>1461</th>\n",
       "      <td>1462</td>\n",
       "      <td>155375.0</td>\n",
       "    </tr>\n",
       "    <tr>\n",
       "      <th>1462</th>\n",
       "      <td>1463</td>\n",
       "      <td>181490.0</td>\n",
       "    </tr>\n",
       "    <tr>\n",
       "      <th>1463</th>\n",
       "      <td>1464</td>\n",
       "      <td>180024.0</td>\n",
       "    </tr>\n",
       "    <tr>\n",
       "      <th>1464</th>\n",
       "      <td>1465</td>\n",
       "      <td>209491.2</td>\n",
       "    </tr>\n",
       "    <tr>\n",
       "      <th>...</th>\n",
       "      <td>...</td>\n",
       "      <td>...</td>\n",
       "    </tr>\n",
       "    <tr>\n",
       "      <th>2914</th>\n",
       "      <td>2915</td>\n",
       "      <td>86350.0</td>\n",
       "    </tr>\n",
       "    <tr>\n",
       "      <th>2915</th>\n",
       "      <td>2916</td>\n",
       "      <td>88000.0</td>\n",
       "    </tr>\n",
       "    <tr>\n",
       "      <th>2916</th>\n",
       "      <td>2917</td>\n",
       "      <td>153131.2</td>\n",
       "    </tr>\n",
       "    <tr>\n",
       "      <th>2917</th>\n",
       "      <td>2918</td>\n",
       "      <td>108060.0</td>\n",
       "    </tr>\n",
       "    <tr>\n",
       "      <th>2918</th>\n",
       "      <td>2919</td>\n",
       "      <td>215220.0</td>\n",
       "    </tr>\n",
       "  </tbody>\n",
       "</table>\n",
       "<p>1459 rows × 2 columns</p>\n",
       "</div>"
      ],
      "text/plain": [
       "        Id  SalePrice\n",
       "1460  1461   119150.0\n",
       "1461  1462   155375.0\n",
       "1462  1463   181490.0\n",
       "1463  1464   180024.0\n",
       "1464  1465   209491.2\n",
       "...    ...        ...\n",
       "2914  2915    86350.0\n",
       "2915  2916    88000.0\n",
       "2916  2917   153131.2\n",
       "2917  2918   108060.0\n",
       "2918  2919   215220.0\n",
       "\n",
       "[1459 rows x 2 columns]"
      ]
     },
     "execution_count": 77,
     "metadata": {},
     "output_type": "execute_result"
    }
   ],
   "source": [
    "output_df"
   ]
  },
  {
   "cell_type": "markdown",
   "id": "47c8b622",
   "metadata": {
    "papermill": {
     "duration": 0.04733,
     "end_time": "2023-12-01T18:14:22.241591",
     "exception": false,
     "start_time": "2023-12-01T18:14:22.194261",
     "status": "completed"
    },
    "tags": []
   },
   "source": [
    "## Produce the final output file (.csv)"
   ]
  },
  {
   "cell_type": "code",
   "execution_count": 78,
   "id": "3ad0c8a3",
   "metadata": {
    "execution": {
     "iopub.execute_input": "2023-12-01T18:14:22.344637Z",
     "iopub.status.busy": "2023-12-01T18:14:22.344024Z",
     "iopub.status.idle": "2023-12-01T18:14:22.358592Z",
     "shell.execute_reply": "2023-12-01T18:14:22.357641Z"
    },
    "papermill": {
     "duration": 0.066171,
     "end_time": "2023-12-01T18:14:22.361089",
     "exception": false,
     "start_time": "2023-12-01T18:14:22.294918",
     "status": "completed"
    },
    "tags": []
   },
   "outputs": [],
   "source": [
    "output_df.to_csv('/kaggle/working/submission.csv', index=False)"
   ]
  },
  {
   "cell_type": "code",
   "execution_count": null,
   "id": "3a68906c",
   "metadata": {
    "papermill": {
     "duration": 0.059116,
     "end_time": "2023-12-01T18:14:22.469396",
     "exception": false,
     "start_time": "2023-12-01T18:14:22.410280",
     "status": "completed"
    },
    "tags": []
   },
   "outputs": [],
   "source": []
  }
 ],
 "metadata": {
  "kaggle": {
   "accelerator": "none",
   "dataSources": [
    {
     "databundleVersionId": 868283,
     "sourceId": 5407,
     "sourceType": "competition"
    }
   ],
   "dockerImageVersionId": 30587,
   "isGpuEnabled": false,
   "isInternetEnabled": true,
   "language": "python",
   "sourceType": "notebook"
  },
  "kernelspec": {
   "display_name": "Python 3",
   "language": "python",
   "name": "python3"
  },
  "language_info": {
   "codemirror_mode": {
    "name": "ipython",
    "version": 3
   },
   "file_extension": ".py",
   "mimetype": "text/x-python",
   "name": "python",
   "nbconvert_exporter": "python",
   "pygments_lexer": "ipython3",
   "version": "3.10.12"
  },
  "papermill": {
   "default_parameters": {},
   "duration": 131.883307,
   "end_time": "2023-12-01T18:14:23.347496",
   "environment_variables": {},
   "exception": null,
   "input_path": "__notebook__.ipynb",
   "output_path": "__notebook__.ipynb",
   "parameters": {},
   "start_time": "2023-12-01T18:12:11.464189",
   "version": "2.4.0"
  }
 },
 "nbformat": 4,
 "nbformat_minor": 5
}
